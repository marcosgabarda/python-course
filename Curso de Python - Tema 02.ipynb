{
 "cells": [
  {
   "cell_type": "markdown",
   "metadata": {
    "slideshow": {
     "slide_type": "slide"
    }
   },
   "source": [
    "## 2. Instalación de Python y creación de entornos virtuales. Introducción a Jupyter."
   ]
  },
  {
   "cell_type": "markdown",
   "metadata": {
    "slideshow": {
     "slide_type": "slide"
    }
   },
   "source": [
    "### Instalación de Python para el desarrollo\n",
    "\n",
    "Python puede ser instalado en practicamente cualquier sistema operativo. La forma más sencilla es acceder a [Python.org](https://www.python.org/downloads/) y descargar la última versión para tu plataforma."
   ]
  },
  {
   "cell_type": "markdown",
   "metadata": {
    "slideshow": {
     "slide_type": "slide"
    }
   },
   "source": [
    "### Instalación de Python en Windows\n",
    "\n",
    "Una forma sencilla de instalar Python en Windows es usar [Chocolatey](https://chocolatey.org/install). Después de seguir las instrucciones de su página web para instalar este gestor de paquetes para Windows, se puede instalar Python 3 directamente desde una terminal con el comando:\n",
    "\n",
    "```\n",
    "choco install python\n",
    "```"
   ]
  },
  {
   "cell_type": "markdown",
   "metadata": {
    "slideshow": {
     "slide_type": "slide"
    }
   },
   "source": [
    "### Instalación de Python en MacOS\n",
    "\n",
    "La forma más sencilla de tener la última versión de Python 3 en MacOS es instalarla desde [Homebrew](https://brew.sh/index_es). Una vez tenemos este gestor de paquetes instalado, podemos instalar Python 3 con el siguiente comando:\n",
    "\n",
    "```\n",
    "brew install python\n",
    "```"
   ]
  },
  {
   "cell_type": "markdown",
   "metadata": {
    "slideshow": {
     "slide_type": "slide"
    }
   },
   "source": [
    "### Instalación de Python en Linux\n",
    "\n",
    "En entornos Linux basados en Ubunto es muy probable que ya tengas una versión de Python 3 instalada. Puedes comprobar que versión tienes con el siguiente comando:\n",
    "\n",
    "```\n",
    "python3 --version\n",
    "```\n",
    "\n",
    "Si tienes Ubuntu 16.10 o nuevo, puedes instalar Python 3.6 con los siguientes comandos:\n",
    "\n",
    "```\n",
    "$ sudo apt-get update\n",
    "$ sudo apt-get install python3.6\n",
    "```"
   ]
  },
  {
   "cell_type": "markdown",
   "metadata": {
    "slideshow": {
     "slide_type": "slide"
    }
   },
   "source": [
    "### Entornos virtuales\n",
    "\n",
    "Si ejecutamos Python desde nuestras instalaciones, ya sea desde la terminal o desde un script, estaremos usando nuestro sistema como entorno de ejecución.\n",
    "\n",
    "Sin embargo, puede darse el caso de que durante el desarrollo de varias aplicaciones, necesitemos usar en cada una de ellas versiones de librerías externas diferentes.\n",
    "\n",
    "Para estos casos, y en general, **siempre que se desarrolle en Python**, es recomendable crear un **entorno virtual** que esté aislado del sistema y que permita tener no solo versiones de librerías solo aplicables a un proyecto, sino que además permita tener intérpretes distintos."
   ]
  },
  {
   "cell_type": "markdown",
   "metadata": {
    "slideshow": {
     "slide_type": "slide"
    }
   },
   "source": [
    "### Módulo venv\n",
    "\n",
    "Python proporciona un módulo por defecto para la creación de entornos virtuales.\n",
    "\n",
    "#### Crear entorno virtual\n",
    "\n",
    "```\n",
    "$ python -m venv <dirección del entorno virtual>\n",
    "```"
   ]
  },
  {
   "cell_type": "markdown",
   "metadata": {
    "slideshow": {
     "slide_type": "slide"
    }
   },
   "source": [
    "```\n",
    "├── bin\n",
    "│   ├── activate\n",
    "│   ├── activate.csh\n",
    "│   ├── activate.fish\n",
    "│   ├── python -> /Users/marcos/.virtualenvs/python-course-u7RvBC-m/bin/python\n",
    "│   └── python3 -> python\n",
    "├── include\n",
    "├── lib\n",
    "│   └── python3.6\n",
    "│       └── site-packages\n",
    "└── pyvenv.cfg\n",
    "\n",
    "5 directories, 6 files\n",
    "```"
   ]
  },
  {
   "cell_type": "markdown",
   "metadata": {
    "slideshow": {
     "slide_type": "slide"
    }
   },
   "source": [
    "#### Activar un entorno virtual\n",
    "\n",
    "Para activar el entorno virtual, sólo hay que usar el script de `bin/activate` que se crea dentro de la ruta del entorno virtual.\n",
    "\n",
    "```\n",
    "$ source <dirección del entorno virtual>/bin/activate\n",
    "(<dirección del entorno virtual>) $\n",
    "```"
   ]
  },
  {
   "cell_type": "markdown",
   "metadata": {
    "slideshow": {
     "slide_type": "slide"
    }
   },
   "source": [
    "Por defecto, el entorno virtual no tiene acceso a los paquetes instalados en el sistema. Si queremos que se puedan acceder, sólo hay que usar el parámetro `--system-site-packages`.\n",
    "\n",
    "```\n",
    "$ python -m venv --system-site-packages <dirección del entorno virtual>\n",
    "```"
   ]
  },
  {
   "cell_type": "markdown",
   "metadata": {
    "slideshow": {
     "slide_type": "slide"
    }
   },
   "source": [
    "#### Desactivar un entorno virtual\n",
    "\n",
    "Para desactivar el entorno virtual, sólo hay que usar el comando de `deactivate`.\n",
    "\n",
    "```\n",
    "(<dirección del entorno virtual>) $ deactivate\n",
    "$\n",
    "```"
   ]
  },
  {
   "cell_type": "markdown",
   "metadata": {
    "slideshow": {
     "slide_type": "slide"
    }
   },
   "source": [
    "### La forma recomendada: pipenv\n",
    "\n",
    "Hay diferentes alternativas al módulo de `venv` que aportan más funcionalidades, pero la más recomendada a día de hoy es [pipenv](https://docs.pipenv.org/).\n",
    "\n",
    "Podemos instalar a nivel de sistema `pipenv` con el comando:\n",
    "\n",
    "```\n",
    "$ pip install pipenv\n",
    "```\n"
   ]
  },
  {
   "cell_type": "markdown",
   "metadata": {
    "slideshow": {
     "slide_type": "slide"
    }
   },
   "source": [
    "#### Nota para MacOS\n",
    "\n",
    "Para instalar a nivel de usuario, se necesita usar el siguiente comando:\n",
    "\n",
    "```\n",
    "$ python3 -m pip install --user --install-option=\"--prefix=\" pipenv\n",
    "```"
   ]
  },
  {
   "cell_type": "markdown",
   "metadata": {
    "slideshow": {
     "slide_type": "slide"
    }
   },
   "source": [
    "#### Crear entorno virtual con `pipenv`\n",
    "\n",
    "Usar `pipenv` es muy sencillo, y basta con ejecutar el siguiente comando en la carpeta donde se tenga el código fuente:\n",
    "\n",
    "```\n",
    "$ pipenv --three\n",
    "```\n",
    "\n",
    "Esto creara el entorno virtual en una carpeta por defecto, y además, creará dos dicheros:\n",
    "\n",
    "- `Pipfile`\n",
    "- `Pipfile.lock`\n",
    "\n",
    "Que se usarán para gestionar las dependencias.\n"
   ]
  },
  {
   "cell_type": "markdown",
   "metadata": {
    "slideshow": {
     "slide_type": "slide"
    }
   },
   "source": [
    "- Se creará un *virtualenv* de forma automática cuando no exista.\n",
    "- Si no se pasan parámetros, todos los paquetes en los Pipfiles se instalarán.\n",
    "- Se puede inicializar con Python 3 con `pipenv --three`\n",
    "- Se puede inicializar con Python 2 con `pipenv --two`"
   ]
  },
  {
   "cell_type": "markdown",
   "metadata": {
    "slideshow": {
     "slide_type": "slide"
    }
   },
   "source": [
    "#### Ejecutar python del entorno virtual \n",
    "\n",
    "Puedes ejecutar comandos usando el entorno virtual sin necesidad de activarlo.\n",
    "\n",
    "```\n",
    "$ pipenv run python script.py\n",
    "```"
   ]
  },
  {
   "cell_type": "markdown",
   "metadata": {
    "slideshow": {
     "slide_type": "slide"
    }
   },
   "source": [
    "#### Activar entorno virtual\n",
    "\n",
    "Para activar el entorno virtual, simplemente desde la carpeta del proyecto, ejecutamos:\n",
    "\n",
    "```\n",
    "$ pipenv shell\n",
    "```\n",
    "\n",
    "Esto crea una nueva sesión de la terminal, con el entorno virtual activado."
   ]
  },
  {
   "cell_type": "markdown",
   "metadata": {
    "slideshow": {
     "slide_type": "slide"
    }
   },
   "source": [
    "#### Fichero `.env`\n",
    "\n",
    "Al activar el virtualenv de esta forma, una funcionalidad que es interesante es que si existe un fichero `.env` se cargará automáticamente las variables de entorno definidas en este. "
   ]
  },
  {
   "cell_type": "markdown",
   "metadata": {
    "slideshow": {
     "slide_type": "slide"
    }
   },
   "source": [
    "### Introducción a Jupyter"
   ]
  },
  {
   "cell_type": "markdown",
   "metadata": {
    "slideshow": {
     "slide_type": "slide"
    }
   },
   "source": [
    "#### Paquetes de terceros\n",
    "\n",
    "Muchas de las funcionalidades que podemos querer incluir en nuestra aplicación de Python pueden que otras personas ya las hayan desarrollado.\n",
    "\n",
    "Para tratar de evitar que se \"reinvente la rueda\", Python cuenta con un repositorio desde donde se pueden bajar todos los paquetes que otros desarrolladores hayan decidido compartir con la comunidad, el **Python Package Index (PyPI)**.\n",
    "\n",
    "El PyPI contiene más de 76.000 paquetes de Python que puedes usar en tus aplicaciones."
   ]
  },
  {
   "cell_type": "markdown",
   "metadata": {
    "slideshow": {
     "slide_type": "slide"
    }
   },
   "source": [
    "#### Jupyter\n",
    "\n",
    "**Jupyter** es un proyecto creado para desarrollar software de código y estándares abiertos y servicios para la computación interactiva usando docenas de lenguajes de programación.\n",
    "\n",
    "Un a de las partes esenciales de este proyecto es el **Jupyter Notebook**, que nos permite ejecutar código directametne en el navegador y poder compartir documentos con código interactivo."
   ]
  },
  {
   "cell_type": "markdown",
   "metadata": {
    "slideshow": {
     "slide_type": "subslide"
    }
   },
   "source": [
    "**¡Esto es un Jupyter Notebook!**"
   ]
  },
  {
   "cell_type": "markdown",
   "metadata": {
    "slideshow": {
     "slide_type": "slide"
    }
   },
   "source": [
    "##### Instalando Jupyter\n",
    "\n",
    "Teniendo ya Python en nuestro sistema, y asumiendo que hemos usado el sistema recomendado para la gestión de entornos virtuales, **pipenv**, podemos instalar Jupyter con el siguientes comando:\n",
    "\n",
    "```\n",
    "$ pipenv install jupyter\n",
    "```"
   ]
  },
  {
   "cell_type": "markdown",
   "metadata": {
    "slideshow": {
     "slide_type": "slide"
    }
   },
   "source": [
    "##### Ejecutando Jupyter Notebook\n",
    "\n",
    "Para lanzar la aplicación web Jupyter Notebook, simplemente tenemos que ejecutar el siguiente comando:\n",
    "\n",
    "```\n",
    "$ pipenv run jupyter notebook\n",
    "```\n",
    "\n",
    "Esto lanzará el navegador web con la interfaz web de Jupyter Notebook en la URL http://localhost:8888/tree."
   ]
  },
  {
   "cell_type": "markdown",
   "metadata": {
    "slideshow": {
     "slide_type": "slide"
    }
   },
   "source": [
    "![jupyter1](img/jupyter1.png)"
   ]
  },
  {
   "cell_type": "markdown",
   "metadata": {
    "slideshow": {
     "slide_type": "slide"
    }
   },
   "source": [
    "##### Crear un Notebook\n",
    "\n",
    "Para crear un nuevo _notebook_ sólo tenemos que hacer click en el botón de `New` (arriba a la derecha) y seleccionar Python 3."
   ]
  },
  {
   "cell_type": "markdown",
   "metadata": {
    "slideshow": {
     "slide_type": "slide"
    }
   },
   "source": [
    "![jupyter1](img/jupyter2.png)"
   ]
  },
  {
   "cell_type": "markdown",
   "metadata": {
    "slideshow": {
     "slide_type": "slide"
    }
   },
   "source": [
    "##### Ejecutar celdas\n",
    "\n",
    "Un _notebook_ recién creado empieza por defeco con una celda de código. En estas celdas podemos ejecutar código Python en nuestro propio navegador.\n",
    "\n",
    "Para probarlo, pdemos escribir:\n",
    "\n",
    "```python\n",
    "print('Hello Jupyter!')\n",
    "```\n",
    "\n",
    "Y luego ejecutar la celda con `Shift` + `Enter`\n"
   ]
  },
  {
   "cell_type": "markdown",
   "metadata": {
    "slideshow": {
     "slide_type": "slide"
    }
   },
   "source": [
    "![jupyter1](img/jupyter3.png)"
   ]
  },
  {
   "cell_type": "markdown",
   "metadata": {
    "slideshow": {
     "slide_type": "slide"
    }
   },
   "source": [
    "##### Tipos de celdas\n",
    "\n",
    "Tenemos dos tipos de celda esencialmente en Jupyter:\n",
    "\n",
    "- Code\n",
    "- Markdown\n",
    "\n",
    "Ya hemos visto un ejemplo de celda de tipo `Code`, que permite ejecutar código Python. Por otro lado, la de tipo `Markdown` nos permite añadir texto enriquecido usando la sintaxis de Markdown."
   ]
  },
  {
   "cell_type": "markdown",
   "metadata": {
    "slideshow": {
     "slide_type": "slide"
    }
   },
   "source": [
    "##### Exportar notebooks\n",
    "\n",
    "Jupyter permite exportar los notebooks a los siguientes formatos usando la herramienta `nbconvert`:\n",
    "\n",
    "- HTML\n",
    "- LaTeX\n",
    "- PDF\n",
    "- RevealJS\n",
    "- Markdown\n",
    "- ReStructured Text\n",
    "- Executable script"
   ]
  },
  {
   "cell_type": "markdown",
   "metadata": {
    "slideshow": {
     "slide_type": "fragment"
    }
   },
   "source": [
    "\n",
    "    $ jupyter nbconvert <input notebook> --to <output format>\n"
   ]
  }
 ],
 "metadata": {
  "celltoolbar": "Slideshow",
  "kernelspec": {
   "display_name": "Python 3",
   "language": "python",
   "name": "python3"
  },
  "language_info": {
   "codemirror_mode": {
    "name": "ipython",
    "version": 3
   },
   "file_extension": ".py",
   "mimetype": "text/x-python",
   "name": "python",
   "nbconvert_exporter": "python",
   "pygments_lexer": "ipython3",
   "version": "3.7.1"
  }
 },
 "nbformat": 4,
 "nbformat_minor": 2
}
