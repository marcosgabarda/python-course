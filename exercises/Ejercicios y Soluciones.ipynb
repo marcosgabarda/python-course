{
 "cells": [
  {
   "cell_type": "markdown",
   "metadata": {
    "slideshow": {
     "slide_type": "slide"
    }
   },
   "source": [
    "# Ejercicios"
   ]
  },
  {
   "cell_type": "markdown",
   "metadata": {
    "slideshow": {
     "slide_type": "slide"
    }
   },
   "source": [
    "## Entrada de datos\n",
    "\n",
    "Escribir un programa que pregunte al usuario su nombre y su edad y muestre un mensaje que le diga en que año cumplirá 100 años."
   ]
  },
  {
   "cell_type": "code",
   "execution_count": null,
   "metadata": {
    "slideshow": {
     "slide_type": "slide"
    }
   },
   "outputs": [],
   "source": [
    "\n",
    "name = input(\"¿Cómo te llamadas? \")\n",
    "age = int(input(\"¿Qué edad tienes? \"))\n",
    "year = str((2019 - age) + 100)\n",
    "print(f\"{name} tendrás 100 años en el año {year}\")"
   ]
  },
  {
   "cell_type": "markdown",
   "metadata": {
    "slideshow": {
     "slide_type": "slide"
    }
   },
   "source": [
    "## Par o impar\n",
    "\n",
    "Escribe un programa que pregunte un número a un usuario. Muestra al usuario un mensaje indicando si el número es par o impar.\n",
    "\n",
    "Extras:\n",
    "\n",
    "- Si el número es múltiplo de 4 muestra un mensaje diferente.\n",
    "- Pregunta al usuario por dos números para comprobar si uno es divisible por el otro, indicándolo al usuario."
   ]
  },
  {
   "cell_type": "code",
   "execution_count": null,
   "metadata": {
    "slideshow": {
     "slide_type": "slide"
    }
   },
   "outputs": [],
   "source": [
    "num = int(input(\"Número para comprobar: \"))\n",
    "check = int(input(\"Número par dividir el primero: \"))\n",
    "\n",
    "if num % 4 == 0:\n",
    "    print(num, \"es múltiplo de 4\")\n",
    "elif num % 2 == 0:\n",
    "    print(num, \"es un número par\")\n",
    "else:\n",
    "    print(num, \"es un número impar\")\n",
    "\n",
    "if num % check == 0:\n",
    "    print(num, \"se puede dividir por\", check)\n",
    "else:\n",
    "    print(num, \"no se puede dividir por\", check)"
   ]
  },
  {
   "cell_type": "markdown",
   "metadata": {
    "slideshow": {
     "slide_type": "slide"
    }
   },
   "source": [
    "##  Final de lista\n",
    "\n",
    "Escribe un programa que tome una lista de números y cree una nueva lista solo con el primer y el último elemento."
   ]
  },
  {
   "cell_type": "code",
   "execution_count": 2,
   "metadata": {
    "slideshow": {
     "slide_type": "slide"
    }
   },
   "outputs": [
    {
     "data": {
      "text/plain": [
       "[0, 9]"
      ]
     },
     "execution_count": 2,
     "metadata": {},
     "output_type": "execute_result"
    }
   ],
   "source": [
    "l = list(range(10))\n",
    "[l[0], l[-1]]"
   ]
  },
  {
   "cell_type": "markdown",
   "metadata": {
    "slideshow": {
     "slide_type": "slide"
    }
   },
   "source": [
    "## Palíndromos\n",
    "\n",
    "Escribe un programa que pida al usuario una palabra y compruebe si es un palíndromo."
   ]
  },
  {
   "cell_type": "code",
   "execution_count": 3,
   "metadata": {
    "slideshow": {
     "slide_type": "slide"
    }
   },
   "outputs": [
    {
     "name": "stdout",
     "output_type": "stream",
     "text": [
      "Introduce una palabra: abba\n",
      "Es un palíndromo\n"
     ]
    }
   ],
   "source": [
    "word = list(input(\"Introduce una palabra: \"))\n",
    "potato = reversed(word)\n",
    "if word == potato:\n",
    "    print(\"Es un palíndromo\")\n",
    "else:\n",
    "    print(\"No es un palíndromo\")"
   ]
  },
  {
   "cell_type": "markdown",
   "metadata": {
    "slideshow": {
     "slide_type": "slide"
    }
   },
   "source": [
    "## Notas \n",
    "\n",
    "Escribe un programa que dad una secuencia de nombres y notas de unos estudiantes, muestre el o los nombres de los estudiantes con la segunda nota más baja."
   ]
  },
  {
   "cell_type": "code",
   "execution_count": null,
   "metadata": {
    "slideshow": {
     "slide_type": "slide"
    }
   },
   "outputs": [],
   "source": [
    "import collections\n",
    "\n",
    "data = [\"Michael\", 7.5, \"Gilliam\", 7.5, \"Eric\", 7., \"John\", 8, \"Jones\", 9]\n",
    "\n",
    "students = collections.defaultdict(list)\n",
    "\n",
    "for index in range(0, len(data), 2):\n",
    "    students[data[index + 1]].append(data[index])\n",
    "\n",
    "key = sorted(students)[1]\n",
    "print('\\n'.join(sorted(students[key])))"
   ]
  },
  {
   "cell_type": "markdown",
   "metadata": {
    "slideshow": {
     "slide_type": "slide"
    }
   },
   "source": [
    "## Máximo\n",
    "\n",
    "Implementa una función que tome como entrada tres variables y devuelve la más grande de las tres, sin usar la función `max` de Python."
   ]
  },
  {
   "cell_type": "code",
   "execution_count": 1,
   "metadata": {
    "slideshow": {
     "slide_type": "slide"
    }
   },
   "outputs": [
    {
     "data": {
      "text/plain": [
       "42"
      ]
     },
     "execution_count": 1,
     "metadata": {},
     "output_type": "execute_result"
    }
   ],
   "source": [
    "def maximum(a, b, c):\n",
    "    data = [a, b, c]\n",
    "    data.sort()\n",
    "    return data[-1]\n",
    "\n",
    "maximum(42, 13, -2)"
   ]
  },
  {
   "cell_type": "markdown",
   "metadata": {
    "slideshow": {
     "slide_type": "slide"
    }
   },
   "source": [
    "## Lanzador de dados\n",
    "\n",
    "Antes de hacer este ejercicio, vamos a introducir el módulo de números aleatorios de Python. Pronto veremos más detalles sobre como funcionan los módulos, pero para empezar, así es como se genera un número entero aleatorio en Python."
   ]
  },
  {
   "cell_type": "code",
   "execution_count": null,
   "metadata": {
    "slideshow": {
     "slide_type": "fragment"
    }
   },
   "outputs": [],
   "source": [
    "import random\n",
    "\n",
    "random.randint(1, 6)  # Número aleatorio entre 1 y 6"
   ]
  },
  {
   "cell_type": "markdown",
   "metadata": {
    "slideshow": {
     "slide_type": "slide"
    }
   },
   "source": [
    "Existen diferentes tipos de dados, según el número de caras de estos. De 4, de 6, de 8, de 10, de 12 y de 20 caras. En juegos que utilizan estos dados, se usa una notación concreta para decir cuandos datos hay que lanzar y de que tipo:\n",
    "\n",
    "\"1d6\" para indicar un dado de 6 caras\n",
    "\"3d4\" para lanzar 3 dados de 4 caras\n",
    "y en general \"ndm\" para indicar que se lanzan n dados de m caras\n",
    "El objetivo de este ejercicio es crear una función que reciba como argumento una cadena de texto, y que devuelva una lista con cada uno de los resultados que se hayan obtenido en los lanzamientos de dados."
   ]
  },
  {
   "cell_type": "code",
   "execution_count": 2,
   "metadata": {
    "slideshow": {
     "slide_type": "slide"
    }
   },
   "outputs": [
    {
     "name": "stdout",
     "output_type": "stream",
     "text": [
      "[3]\n",
      "[12, 11]\n",
      "[10, 3, 12, 17]\n"
     ]
    }
   ],
   "source": [
    "import random\n",
    "\n",
    "def dice_thrower(dices):\n",
    "    number, sides = dices.lower().split(\"d\")\n",
    "    return [random.randint(1, int(sides)) for _ in range(int(number))]\n",
    "\n",
    "\n",
    "print(dice_thrower(\"1d6\"))\n",
    "print(dice_thrower(\"2d12\"))\n",
    "print(dice_thrower(\"4d20\"))"
   ]
  },
  {
   "cell_type": "markdown",
   "metadata": {
    "slideshow": {
     "slide_type": "slide"
    }
   },
   "source": [
    "## Traductor de leet speak\n",
    "Leet speak o leet (1337 5p34k o 1337 en la escritura leet) es un tipo de escritura compuesta de caracteres alfanuméricos, es usada por algunas comunidades y usuarios de diferentes medios de internet. Esta escritura es caracterizada por escribir caracteres alfanuméricos de una forma incomprensible para otros usuarios ajenos, inexpertos o neófitos a los diferentes grupos que utilizan esta escritura.\n",
    "\n",
    "El objetivo de este ejercicio es implementar una función que reciba una cadena de texto y la traduzca a leet speak a normal, y otra que de normal pase leet speak, usando la siguiente tabla de conversión:\n",
    "\n",
    "    A -> 4\n",
    "    B -> 6\n",
    "    E -> 3\n",
    "    I -> |\n",
    "    L -> 1\n",
    "    M -> (V)\n",
    "    N -> (\\)\n",
    "    O -> 0\n",
    "    S -> 5\n",
    "    T -> 7\n",
    "    V -> \\/\n",
    "    W -> `//\n"
   ]
  },
  {
   "cell_type": "code",
   "execution_count": null,
   "metadata": {
    "slideshow": {
     "slide_type": "slide"
    }
   },
   "outputs": [],
   "source": [
    "class Translator:\n",
    "\n",
    "    TRANSLATE_TO = {\n",
    "        'A': '4', \n",
    "        'B': '6', \n",
    "        'E': '3', \n",
    "        'I': '1', \n",
    "        'M': '(V)', \n",
    "        'N': '(\\)', \n",
    "        'O': '0', \n",
    "        'S': '5', \n",
    "        'T': '7', \n",
    "        'V': '\\/', \n",
    "        'W': '`//',\n",
    "    }\n",
    "    TRANSLATE_TO.update({key.lower(): value for key, value in TRANSLATE_TO.items()})\n",
    "    TRANSLATE_FROM = dict((value, key) for key, value in TRANSLATE_TO.items())\n",
    "\n",
    "    @staticmethod\n",
    "    def _translate(_string, _map):\n",
    "        _translated_string = _string\n",
    "        for key, value in _map.items():\n",
    "            _translated_string = _translated_string.replace(key, value)\n",
    "        return _translated_string\n",
    "    \n",
    "    @classmethod\n",
    "    def to_leet_speak(cls, _string):\n",
    "        return cls._translate(_string, cls.TRANSLATE_TO)\n",
    "\n",
    "    @classmethod\n",
    "    def from_leet_speak(cls, _string):\n",
    "        return cls._translate(_string, cls.TRANSLATE_FROM)\n",
    "\n",
    "print(Translator.to_leet_speak(\"I am elite.\"))\n",
    "print(Translator.to_leet_speak(\"Da pain!\"))\n",
    "print(Translator.to_leet_speak(\"Eye need help!\"))\n",
    "print(Translator.from_leet_speak(\"3Y3 (\\)33d j00 t0 g37 d4 d0c70r.\"))\n",
    "print(Translator.from_leet_speak(\"1 n33d m4 p1llz!\"))"
   ]
  },
  {
   "cell_type": "markdown",
   "metadata": {
    "slideshow": {
     "slide_type": "slide"
    }
   },
   "source": [
    "## Mascotas\n",
    "\n",
    "Crea una serie de clases que permitan representar en un programa tanto perros como gatos.  Estas clases tendrán las siguientes características:\n",
    "\n",
    "- Tanto perros como gatos tienen nombre y edad.\n",
    "- Tanto los perros como los gatos pueden ser acariciados.\n",
    "- Sólo los perros los puedes sacar a pasear.\n",
    "- Los perros pueden ser pequeños, medianos o grandes\n",
    "- Sólo los gatos pueden ronronear.\n",
    "- Se podrá saber tanto de los perros como de los gatos su edad en años humanos."
   ]
  },
  {
   "cell_type": "markdown",
   "metadata": {
    "slideshow": {
     "slide_type": "slide"
    }
   },
   "source": [
    "### Edad en gatos\n",
    "\n",
    "El primer año de vida del gato, equivale a 15 años de edad en humanos, mientras que el segundo año solo equivale a 10 años humanos. A partir del tercero, cada año gatuno equivale a 4 años humanos.\n",
    "\n",
    "### Edad en perros\n",
    "\n",
    "Las razas pequeñas envejecen 4 años por cada uno que pasa; las medianas 6 años y las razas grandes 7."
   ]
  },
  {
   "cell_type": "code",
   "execution_count": 7,
   "metadata": {
    "slideshow": {
     "slide_type": "slide"
    }
   },
   "outputs": [
    {
     "name": "stdout",
     "output_type": "stream",
     "text": [
      "¡Estoy acariciando a Pebe!\n",
      "¡Pebe está ronroneando!\n"
     ]
    },
    {
     "ename": "AttributeError",
     "evalue": "'Cat' object has no attribute 'human_age'",
     "output_type": "error",
     "traceback": [
      "\u001b[0;31m---------------------------------------------------------------------------\u001b[0m",
      "\u001b[0;31mAttributeError\u001b[0m                            Traceback (most recent call last)",
      "\u001b[0;32m<ipython-input-7-21430a9f4688>\u001b[0m in \u001b[0;36m<module>\u001b[0;34m\u001b[0m\n\u001b[1;32m     33\u001b[0m \u001b[0mpebe\u001b[0m\u001b[0;34m.\u001b[0m\u001b[0mpet\u001b[0m\u001b[0;34m(\u001b[0m\u001b[0;34m)\u001b[0m\u001b[0;34m\u001b[0m\u001b[0;34m\u001b[0m\u001b[0m\n\u001b[1;32m     34\u001b[0m \u001b[0mpebe\u001b[0m\u001b[0;34m.\u001b[0m\u001b[0mpurr\u001b[0m\u001b[0;34m(\u001b[0m\u001b[0;34m)\u001b[0m\u001b[0;34m\u001b[0m\u001b[0;34m\u001b[0m\u001b[0m\n\u001b[0;32m---> 35\u001b[0;31m \u001b[0mprint\u001b[0m\u001b[0;34m(\u001b[0m\u001b[0;34mf\"Edad humana de {pebe.name}: {pebe.human_age()}\"\u001b[0m\u001b[0;34m)\u001b[0m\u001b[0;34m\u001b[0m\u001b[0;34m\u001b[0m\u001b[0m\n\u001b[0m\u001b[1;32m     36\u001b[0m \u001b[0;34m\u001b[0m\u001b[0m\n\u001b[1;32m     37\u001b[0m \u001b[0mjake\u001b[0m\u001b[0;34m.\u001b[0m\u001b[0mpet\u001b[0m\u001b[0;34m(\u001b[0m\u001b[0;34m)\u001b[0m\u001b[0;34m\u001b[0m\u001b[0;34m\u001b[0m\u001b[0m\n",
      "\u001b[0;31mAttributeError\u001b[0m: 'Cat' object has no attribute 'human_age'"
     ]
    }
   ],
   "source": [
    "class Pet:\n",
    "    def __init__(self, name, age):\n",
    "        self.name = name\n",
    "        self.age = age\n",
    "        \n",
    "    def pet(self):\n",
    "        print(f\"¡Estoy acariciando a {self.name}!\")\n",
    "\n",
    "        \n",
    "class Dog(Pet):\n",
    "    SMALL, MEDIUM, BIG = \"small\", \"medium\", \"big\"\n",
    "    def __init__(self, name, age, kind):\n",
    "        super().__init__(name, age)\n",
    "        self.kind = kind\n",
    "        \n",
    "    def walk(self):\n",
    "        print(f\"¡{self.name} sale a pasear!\")\n",
    "\n",
    "    def human_age(self):\n",
    "        rate = {self.SMALL: 4, self.MEDIUM: 6, self.BIG: 7}\n",
    "        return rate[self.kind] * self.age\n",
    "\n",
    "class Cat(Pet):\n",
    "    \n",
    "    def purr(self):\n",
    "        print(f\"¡{self.name} está ronroneando!\")\n",
    "\n",
    "\n",
    "\n",
    "pebe = Cat(\"Pebe\", 6)\n",
    "jake = Dog(\"Jake\", 5, Dog.MEDIUM)\n",
    "\n",
    "pebe.pet()\n",
    "pebe.purr()\n",
    "print(f\"Edad humana de {pebe.name}: {pebe.human_age()}\")\n",
    "\n",
    "jake.pet()\n",
    "jake.walk()\n",
    "print(f\"Edad humana de {jake.name}: {jake.human_age()}\")"
   ]
  },
  {
   "cell_type": "markdown",
   "metadata": {
    "slideshow": {
     "slide_type": "slide"
    }
   },
   "source": [
    "## Agenda\n",
    "\n",
    "Crea una clase con la que puedas gestionar una agenda de contactos. Esta clase debería permitir realizar las siguientes acciones:\n",
    "\n",
    "- Añadir contacto\n",
    "- Editar contacto\n",
    "- Listar contactos\n",
    "- Buscar contacto\n",
    "\n",
    "Además, para no perder los datos de nuestra agenda, deberá de poderse guardar en un fichero, para poder recuperar el contenido en siguientes ejecuciones."
   ]
  },
  {
   "cell_type": "markdown",
   "metadata": {
    "slideshow": {
     "slide_type": "slide"
    }
   },
   "source": [
    "Para guardar la agenda en un fichero podemos hacer uso del módulo `json` incluido en Python."
   ]
  },
  {
   "cell_type": "code",
   "execution_count": 3,
   "metadata": {
    "slideshow": {
     "slide_type": "fragment"
    }
   },
   "outputs": [
    {
     "name": "stdout",
     "output_type": "stream",
     "text": [
      "{'contacts': []} <class 'dict'>\n",
      "{\"contacts\": []} <class 'str'>\n"
     ]
    }
   ],
   "source": [
    "import json\n",
    "\n",
    "json_content = '{\"contacts\": []}'\n",
    "loads = json.loads(json_content)\n",
    "print(loads, type(loads))\n",
    "\n",
    "json_dict = {\"contacts\": []}\n",
    "dumps = json.dumps(json_dict)\n",
    "print(dumps, type(dumps))"
   ]
  },
  {
   "cell_type": "markdown",
   "metadata": {
    "slideshow": {
     "slide_type": "slide"
    }
   },
   "source": [
    "## Piedra, papel o tijeras\n",
    "\n",
    "Crea un programa que permita jugar a uno o dos jugadores a \"Piedra, papel o tijeras\" desde la terminal de comandos. \n",
    "\n",
    "- Puedes elegir si quieres que sea siempre para un jugador, siempre para dos, o que se pueda elegir en cada partida.\n",
    "- Usa clases para representar lo que saca cada jugador, permitiendo comparar directamente las clases.\n",
    "- Al menos utiliza dos ficheros `.py` para almacenar el programa.\n"
   ]
  },
  {
   "cell_type": "markdown",
   "metadata": {
    "slideshow": {
     "slide_type": "slide"
    }
   },
   "source": [
    "## Usando un servicio *Twitter-like*\n",
    "\n",
    "Para este ejercicio disponemos de un servicio online clónico de la red social **Twitter**, con un API pública, que vamos a utilizar.\n",
    "\n",
    "La forma más sencilla de realizar peticiones HTTP es utilizando la librería de `requests`. Para instalarla simplemente tenemos que hacer:\n",
    "\n",
    "```\n",
    "$ pipenv install requests\n",
    "```"
   ]
  },
  {
   "cell_type": "markdown",
   "metadata": {
    "slideshow": {
     "slide_type": "slide"
    }
   },
   "source": [
    "Para realizar un `GET` basta con hacer lo siguiente:"
   ]
  },
  {
   "cell_type": "code",
   "execution_count": 3,
   "metadata": {
    "slideshow": {
     "slide_type": "fragment"
    }
   },
   "outputs": [
    {
     "data": {
      "text/plain": [
       "<Response [200]>"
      ]
     },
     "execution_count": 3,
     "metadata": {},
     "output_type": "execute_result"
    }
   ],
   "source": [
    "import requests\n",
    "\n",
    "response = requests.get(\"https://decem.school/\")\n",
    "response"
   ]
  },
  {
   "cell_type": "markdown",
   "metadata": {
    "slideshow": {
     "slide_type": "slide"
    }
   },
   "source": [
    "Para realizar un `POST` basta con hacer lo siguiente:"
   ]
  },
  {
   "cell_type": "code",
   "execution_count": 5,
   "metadata": {
    "slideshow": {
     "slide_type": "fragment"
    }
   },
   "outputs": [
    {
     "data": {
      "text/plain": [
       "<Response [201]>"
      ]
     },
     "execution_count": 5,
     "metadata": {},
     "output_type": "execute_result"
    }
   ],
   "source": [
    "import requests\n",
    "\n",
    "response = requests.post(\"https://postb.in/api/bin\")\n",
    "response"
   ]
  },
  {
   "cell_type": "markdown",
   "metadata": {
    "slideshow": {
     "slide_type": "slide"
    }
   },
   "source": [
    "Podemos usar un **diccionario** para enviar en el post en el argumento `data`.\n",
    "\n",
    "```python\n",
    "import requests\n",
    "\n",
    "response = requests.post(\"https://postb.in/api/bin\", data={\"hello\": \"world\"})\n",
    "```"
   ]
  },
  {
   "cell_type": "markdown",
   "metadata": {
    "slideshow": {
     "slide_type": "slide"
    }
   },
   "source": [
    "Si una respuesta a una petición está estructurada en formato JSON, se puede obtener el contenido de este, ya parseado a estructuras de datos nativas con:\n",
    "\n",
    "```python\n",
    "data = response.json()\n",
    "```\n"
   ]
  },
  {
   "cell_type": "markdown",
   "metadata": {
    "slideshow": {
     "slide_type": "slide"
    }
   },
   "source": [
    "### Servicio\n",
    "\n",
    "La dirección base del servicio *Twitter-like* es la siguiente:\n",
    "\n",
    "```\n",
    "https://yatla.mgabarda.com/api/v1/\n",
    "```\n",
    "\n",
    "Y se puede encontrar la documentación del API en:\n",
    "\n",
    "```\n",
    "https://yatla.mgabarda.com/api/v1/docs/\n",
    "```\n",
    "\n",
    "Donde puedes ver el API completa accediendo con los siguientes datos:\n",
    "\n",
    "- Username: `docs`\n",
    "- Contraseña: Decem2019!\n",
    "- URL: https://yatla.mgabarda.com/admin/\n"
   ]
  },
  {
   "cell_type": "code",
   "execution_count": 10,
   "metadata": {
    "slideshow": {
     "slide_type": "slide"
    }
   },
   "outputs": [
    {
     "name": "stdout",
     "output_type": "stream",
     "text": [
      "{'count': 0, 'next': None, 'previous': None, 'results': []}\n"
     ]
    }
   ],
   "source": [
    "import requests\n",
    "\n",
    "response = requests.post(\n",
    "    \"https://yatla.mgabarda.com/api/v1/auth/\", \n",
    "    data={\"username\": \"docs\", \"password\": \"Decem2019!\"}\n",
    ")\n",
    "data = response.json()\n",
    "token = data[\"token\"]\n",
    "\n",
    "response = requests.get(\n",
    "    \"https://yatla.mgabarda.com/api/v1/twits/timeline/\", \n",
    "    headers={\"Authorization\": f\"Token {token}\"}\n",
    ")\n",
    "print(response.json())"
   ]
  },
  {
   "cell_type": "markdown",
   "metadata": {
    "slideshow": {
     "slide_type": "slide"
    }
   },
   "source": [
    "\n",
    "### Extracción de datos\n",
    "\n",
    "En este ejercicio vamos a obtener y explotar datos de una aplicación clónica de Twitter para realizar diferentes análisis de los datos.\n",
    "\n",
    "- Obtener todos los twits disponibles\n",
    "- Obtener los twits con más *favs* y *retwits*\n",
    "- El usuario que más actividad ha tenido en la plataforma\n",
    "- Mostrar una representación gráfica de la actividad de la plataforma por día\n",
    "\n",
    "### Cliente \n",
    "\n",
    "También desarrollaremos un cliente para acceder y usar el servicio desde la línea de comandos.\n",
    "\n",
    "- Registrarte en la plataforma\n",
    "- Acceder con el nombre de usuario y contraseña\n",
    "- Seguir a un usuario\n",
    "- Visualizar el timeline del usuario que se ha identificado"
   ]
  },
  {
   "cell_type": "code",
   "execution_count": 1,
   "metadata": {
    "slideshow": {
     "slide_type": "slide"
    }
   },
   "outputs": [],
   "source": [
    "import collections\n",
    "import requests\n",
    "\n",
    "\n",
    "base = \"https://yatla.mgabarda.com\"\n",
    "columns = (\"id\", \"likes\", \"retwits\", \"created\")\n",
    "data = collections.defaultdict(list)\n",
    "\n",
    "response = requests.get(f\"{base}/api/v1/twits/\", params={\"page_size\": 300})\n",
    "response_data = response.json()\n",
    "\n",
    "for item in response_data[\"results\"]:\n",
    "    [data[column].append(item[column]) for column in columns]\n",
    "while response_data[\"next\"]:\n",
    "    response = requests.get(response_data[\"next\"])\n",
    "    response_data = response.json()\n",
    "    for item in response_data[\"results\"]:\n",
    "        [data[column].append(item[column]) for column in columns]"
   ]
  },
  {
   "cell_type": "code",
   "execution_count": 2,
   "metadata": {
    "slideshow": {
     "slide_type": "slide"
    }
   },
   "outputs": [],
   "source": [
    "import pandas as pd\n",
    "\n",
    "df = pd.DataFrame(data)"
   ]
  },
  {
   "cell_type": "code",
   "execution_count": 3,
   "metadata": {
    "slideshow": {
     "slide_type": "slide"
    }
   },
   "outputs": [
    {
     "data": {
      "text/plain": [
       "0      2019-02-12 23:28:48.872052\n",
       "1      2019-02-12 23:27:54.214487\n",
       "2      2019-02-12 23:27:41.201572\n",
       "3      2019-02-12 23:27:32.614600\n",
       "4      2019-02-12 23:25:34.561856\n",
       "                  ...            \n",
       "3017   2019-02-08 22:46:35.999386\n",
       "3018   2019-02-08 22:23:20.011796\n",
       "3019   2019-02-08 21:45:35.999386\n",
       "3020   2019-02-08 21:26:35.999386\n",
       "3021   2019-02-08 20:27:35.999386\n",
       "Name: created, Length: 3022, dtype: datetime64[ns]"
      ]
     },
     "execution_count": 3,
     "metadata": {},
     "output_type": "execute_result"
    }
   ],
   "source": [
    "df[\"created\"]\n",
    "pd.to_datetime(df[\"created\"], infer_datetime_format=True)"
   ]
  }
 ],
 "metadata": {
  "celltoolbar": "Slideshow",
  "kernelspec": {
   "display_name": "Python 3",
   "language": "python",
   "name": "python3"
  },
  "language_info": {
   "codemirror_mode": {
    "name": "ipython",
    "version": 3
   },
   "file_extension": ".py",
   "mimetype": "text/x-python",
   "name": "python",
   "nbconvert_exporter": "python",
   "pygments_lexer": "ipython3",
   "version": "3.7.1"
  }
 },
 "nbformat": 4,
 "nbformat_minor": 2
}
