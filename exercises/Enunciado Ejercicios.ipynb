{
 "cells": [
  {
   "cell_type": "markdown",
   "metadata": {
    "slideshow": {
     "slide_type": "slide"
    }
   },
   "source": [
    "# Ejercicios"
   ]
  },
  {
   "cell_type": "markdown",
   "metadata": {
    "slideshow": {
     "slide_type": "slide"
    }
   },
   "source": [
    "## Entrada de datos\n",
    "\n",
    "Escribir un programa que pregunte al usuario su nombre y su edad y muestre un mensaje que le diga en que año cumplirá 100 años."
   ]
  },
  {
   "cell_type": "markdown",
   "metadata": {
    "slideshow": {
     "slide_type": "slide"
    }
   },
   "source": [
    "## Par o impar\n",
    "\n",
    "Escribe un programa que pregunte un número a un usuario. Muestra al usuario un mensaje indicando si el número es par o impar.\n",
    "\n",
    "Extras:\n",
    "\n",
    "- Si el número es múltiplo de 4 muestra un mensaje diferente.\n",
    "- Pregunta al usuario por dos números para comprobar si uno es divisible por el otro, indicándolo al usuario."
   ]
  },
  {
   "cell_type": "markdown",
   "metadata": {
    "slideshow": {
     "slide_type": "slide"
    }
   },
   "source": [
    "##  Final de lista\n",
    "\n",
    "Escribe un programa que tome una lista de números y cree una nueva lista solo con el primer y el último elemento."
   ]
  },
  {
   "cell_type": "markdown",
   "metadata": {
    "slideshow": {
     "slide_type": "slide"
    }
   },
   "source": [
    "## Palíndromos\n",
    "\n",
    "Escribe un programa que pida al usuario una palabra y compruebe si es un palíndromo."
   ]
  },
  {
   "cell_type": "markdown",
   "metadata": {
    "slideshow": {
     "slide_type": "slide"
    }
   },
   "source": [
    "## Notas \n",
    "\n",
    "Escribe un programa que dad una secuencia de nombres y notas de unos estudiantes, muestre el o los nombres de los estudiantes con la segunda nota más baja."
   ]
  },
  {
   "cell_type": "markdown",
   "metadata": {
    "slideshow": {
     "slide_type": "slide"
    }
   },
   "source": [
    "## Máximo\n",
    "\n",
    "Implementa una función que tome como entrada tres variables y devuelve la más grande de las tres, sin usar la función `max` de Python."
   ]
  },
  {
   "cell_type": "markdown",
   "metadata": {
    "slideshow": {
     "slide_type": "slide"
    }
   },
   "source": [
    "## Lanzador de dados\n",
    "\n",
    "Antes de hacer este ejercicio, vamos a introducir el módulo de números aleatorios de Python. Pronto veremos más detalles sobre como funcionan los módulos, pero para empezar, así es como se genera un número entero aleatorio en Python."
   ]
  },
  {
   "cell_type": "code",
   "execution_count": null,
   "metadata": {
    "slideshow": {
     "slide_type": "fragment"
    }
   },
   "outputs": [],
   "source": [
    "import random\n",
    "\n",
    "random.randint(1, 6)  # Número aleatorio entre 1 y 6"
   ]
  },
  {
   "cell_type": "markdown",
   "metadata": {
    "slideshow": {
     "slide_type": "slide"
    }
   },
   "source": [
    "Existen diferentes tipos de dados, según el número de caras de estos. De 4, de 6, de 8, de 10, de 12 y de 20 caras. En juegos que utilizan estos dados, se usa una notación concreta para decir cuandos datos hay que lanzar y de que tipo:\n",
    "\n",
    "\"1d6\" para indicar un dado de 6 caras\n",
    "\"3d4\" para lanzar 3 dados de 4 caras\n",
    "y en general \"ndm\" para indicar que se lanzan n dados de m caras\n",
    "El objetivo de este ejercicio es crear una función que reciba como argumento una cadena de texto, y que devuelva una lista con cada uno de los resultados que se hayan obtenido en los lanzamientos de dados."
   ]
  },
  {
   "cell_type": "markdown",
   "metadata": {
    "slideshow": {
     "slide_type": "slide"
    }
   },
   "source": [
    "## Traductor de leet speak\n",
    "Leet speak o leet (1337 5p34k o 1337 en la escritura leet) es un tipo de escritura compuesta de caracteres alfanuméricos, es usada por algunas comunidades y usuarios de diferentes medios de internet. Esta escritura es caracterizada por escribir caracteres alfanuméricos de una forma incomprensible para otros usuarios ajenos, inexpertos o neófitos a los diferentes grupos que utilizan esta escritura.\n",
    "\n",
    "El objetivo de este ejercicio es implementar una función que reciba una cadena de texto y la traduzca a leet speak a normal, y otra que de normal pase leet speak, usando la siguiente tabla de conversión:\n",
    "\n",
    "    A -> 4\n",
    "    B -> 6\n",
    "    E -> 3\n",
    "    I -> |\n",
    "    L -> 1\n",
    "    M -> (V)\n",
    "    N -> (\\)\n",
    "    O -> 0\n",
    "    S -> 5\n",
    "    T -> 7\n",
    "    V -> \\/\n",
    "    W -> `//\n"
   ]
  },
  {
   "cell_type": "markdown",
   "metadata": {
    "slideshow": {
     "slide_type": "slide"
    }
   },
   "source": [
    "## Mascotas\n",
    "\n",
    "Crea una serie de clases que permitan representar en un programa tanto perros como gatos.  Estas clases tendrán las siguientes características:\n",
    "\n",
    "- Tanto perros como gatos tienen nombre y edad.\n",
    "- Tanto los perros como los gatos pueden ser acariciados.\n",
    "- Sólo los perros los puedes sacar a pasear.\n",
    "- Los perros pueden ser pequeños, medianos o grandes\n",
    "- Sólo los gatos pueden ronronear.\n",
    "- Se podrá saber tanto de los perros como de los gatos su edad en años humanos."
   ]
  },
  {
   "cell_type": "markdown",
   "metadata": {
    "slideshow": {
     "slide_type": "slide"
    }
   },
   "source": [
    "### Edad en gatos\n",
    "\n",
    "El primer año de vida del gato, equivale a 15 años de edad en humanos, mientras que el segundo año solo equivale a 10 años humanos. A partir del tercero, cada año gatuno equivale a 4 años humanos.\n",
    "\n",
    "### Edad en perros\n",
    "\n",
    "Las razas pequeñas envejecen 4 años por cada uno que pasa; las medianas 6 años y las razas grandes 7."
   ]
  },
  {
   "cell_type": "markdown",
   "metadata": {
    "slideshow": {
     "slide_type": "slide"
    }
   },
   "source": [
    "## Agenda\n",
    "\n",
    "Crea una clase con la que puedas gestionar una agenda de contactos. Esta clase debería permitir realizar las siguientes acciones:\n",
    "\n",
    "- Añadir contacto\n",
    "- Editar contacto\n",
    "- Listar contactos\n",
    "- Buscar contacto\n",
    "\n",
    "Además, para no perder los datos de nuestra agenda, deberá de poderse guardar en un fichero, para poder recuperar el contenido en siguientes ejecuciones."
   ]
  },
  {
   "cell_type": "markdown",
   "metadata": {
    "slideshow": {
     "slide_type": "slide"
    }
   },
   "source": [
    "Para guardar la agenda en un fichero podemos hacer uso del módulo `json` incluido en Python."
   ]
  },
  {
   "cell_type": "code",
   "execution_count": 3,
   "metadata": {
    "slideshow": {
     "slide_type": "fragment"
    }
   },
   "outputs": [
    {
     "name": "stdout",
     "output_type": "stream",
     "text": [
      "{'contacts': []} <class 'dict'>\n",
      "{\"contacts\": []} <class 'str'>\n"
     ]
    }
   ],
   "source": [
    "import json\n",
    "\n",
    "json_content = '{\"contacts\": []}'\n",
    "loads = json.loads(json_content)\n",
    "print(loads, type(loads))\n",
    "\n",
    "json_dict = {\"contacts\": []}\n",
    "dumps = json.dumps(json_dict)\n",
    "print(dumps, type(dumps))"
   ]
  },
  {
   "cell_type": "markdown",
   "metadata": {
    "slideshow": {
     "slide_type": "slide"
    }
   },
   "source": [
    "## Piedra, papel o tijeras\n",
    "\n",
    "Crea un programa que permita jugar a uno o dos jugadores a \"Piedra, papel o tijeras\" desde la terminal de comandos. \n",
    "\n",
    "- Puedes elegir si quieres que sea siempre para un jugador, siempre para dos, o que se pueda elegir en cada partida.\n",
    "- Usa clases para representar lo que saca cada jugador, permitiendo comparar directamente las clases.\n",
    "- Al menos utiliza dos ficheros `.py` para almacenar el programa.\n"
   ]
  },
  {
   "cell_type": "markdown",
   "metadata": {
    "slideshow": {
     "slide_type": "slide"
    }
   },
   "source": [
    "## Usando un servicio *Twitter-like*\n",
    "\n",
    "Para este ejercicio disponemos de un servicio online clónico de la red social **Twitter**, con un API pública, que vamos a utilizar.\n",
    "\n",
    "La forma más sencilla de realizar peticiones HTTP es utilizando la librería de `requests`. Para instalarla simplemente tenemos que hacer:\n",
    "\n",
    "```\n",
    "$ pipenv install requests\n",
    "```"
   ]
  },
  {
   "cell_type": "markdown",
   "metadata": {
    "slideshow": {
     "slide_type": "slide"
    }
   },
   "source": [
    "Para realizar un `GET` basta con hacer lo siguiente:"
   ]
  },
  {
   "cell_type": "code",
   "execution_count": 3,
   "metadata": {
    "slideshow": {
     "slide_type": "fragment"
    }
   },
   "outputs": [
    {
     "data": {
      "text/plain": [
       "<Response [200]>"
      ]
     },
     "execution_count": 3,
     "metadata": {},
     "output_type": "execute_result"
    }
   ],
   "source": [
    "import requests\n",
    "\n",
    "response = requests.get(\"https://decem.school/\")\n",
    "response"
   ]
  },
  {
   "cell_type": "markdown",
   "metadata": {
    "slideshow": {
     "slide_type": "slide"
    }
   },
   "source": [
    "Para realizar un `POST` basta con hacer lo siguiente:"
   ]
  },
  {
   "cell_type": "code",
   "execution_count": 5,
   "metadata": {
    "slideshow": {
     "slide_type": "fragment"
    }
   },
   "outputs": [
    {
     "data": {
      "text/plain": [
       "<Response [201]>"
      ]
     },
     "execution_count": 5,
     "metadata": {},
     "output_type": "execute_result"
    }
   ],
   "source": [
    "import requests\n",
    "\n",
    "response = requests.post(\"https://postb.in/api/bin\")\n",
    "response"
   ]
  },
  {
   "cell_type": "markdown",
   "metadata": {
    "slideshow": {
     "slide_type": "slide"
    }
   },
   "source": [
    "Podemos usar un **diccionario** para enviar en el post en el argumento `data`.\n",
    "\n",
    "```python\n",
    "import requests\n",
    "\n",
    "response = requests.post(\"https://postb.in/api/bin\", data={\"hello\": \"world\"})\n",
    "```"
   ]
  },
  {
   "cell_type": "markdown",
   "metadata": {
    "slideshow": {
     "slide_type": "slide"
    }
   },
   "source": [
    "Si una respuesta a una petición está estructurada en formato JSON, se puede obtener el contenido de este, ya parseado a estructuras de datos nativas con:\n",
    "\n",
    "```python\n",
    "data = response.json()\n",
    "```\n"
   ]
  },
  {
   "cell_type": "markdown",
   "metadata": {
    "slideshow": {
     "slide_type": "slide"
    }
   },
   "source": [
    "### Servicio\n",
    "\n",
    "La dirección base del servicio *Twitter-like* es la siguiente:\n",
    "\n",
    "```\n",
    "https://yatla.mgabarda.com/api/v1/\n",
    "```\n",
    "\n",
    "Y se puede encontrar la documentación del API en:\n",
    "\n",
    "```\n",
    "https://yatla.mgabarda.com/api/v1/docs/\n",
    "```\n",
    "\n",
    "Donde puedes ver el API completa accediendo con los siguientes datos:\n",
    "\n",
    "- Username: `docs`\n",
    "- Contraseña: Decem2019!\n",
    "- URL: https://yatla.mgabarda.com/admin/\n"
   ]
  },
  {
   "cell_type": "code",
   "execution_count": 10,
   "metadata": {
    "slideshow": {
     "slide_type": "slide"
    }
   },
   "outputs": [
    {
     "name": "stdout",
     "output_type": "stream",
     "text": [
      "{'count': 0, 'next': None, 'previous': None, 'results': []}\n"
     ]
    }
   ],
   "source": [
    "import requests\n",
    "\n",
    "response = requests.post(\n",
    "    \"https://yatla.mgabarda.com/api/v1/auth/\", \n",
    "    data={\"username\": \"docs\", \"password\": \"Decem2019!\"}\n",
    ")\n",
    "data = response.json()\n",
    "token = data[\"token\"]\n",
    "\n",
    "response = requests.get(\n",
    "    \"https://yatla.mgabarda.com/api/v1/twits/timeline/\", \n",
    "    headers={\"Authorization\": f\"Token {token}\"}\n",
    ")\n",
    "print(response.json())"
   ]
  },
  {
   "cell_type": "markdown",
   "metadata": {
    "slideshow": {
     "slide_type": "slide"
    }
   },
   "source": [
    "\n",
    "### Extracción de datos\n",
    "\n",
    "En este ejercicio vamos a obtener y explotar datos de una aplicación clónica de Twitter para realizar diferentes análisis de los datos.\n",
    "\n",
    "- Obtener todos los twits disponibles\n",
    "- Obtener los twits con más *favs* y *retwits*\n",
    "- El usuario que más actividad ha tenido en la plataforma\n",
    "- Mostrar una representación gráfica de la actividad de la plataforma por día\n",
    "\n",
    "### Cliente \n",
    "\n",
    "También desarrollaremos un cliente para acceder y usar el servicio desde la línea de comandos.\n",
    "\n",
    "- Registrarte en la plataforma\n",
    "- Acceder con el nombre de usuario y contraseña\n",
    "- Seguir a un usuario\n",
    "- Visualizar el timeline del usuario que se ha identificado"
   ]
  }
 ],
 "metadata": {
  "kernelspec": {
   "display_name": "Python 3",
   "language": "python",
   "name": "python3"
  },
  "language_info": {
   "codemirror_mode": {
    "name": "ipython",
    "version": 3
   },
   "file_extension": ".py",
   "mimetype": "text/x-python",
   "name": "python",
   "nbconvert_exporter": "python",
   "pygments_lexer": "ipython3",
   "version": "3.7.1"
  }
 },
 "nbformat": 4,
 "nbformat_minor": 2
}
