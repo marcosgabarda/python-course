{
 "cells": [
  {
   "cell_type": "markdown",
   "metadata": {
    "slideshow": {
     "slide_type": "slide"
    }
   },
   "source": [
    "## 9. Estructura de paquetes, módulos y ficheros."
   ]
  },
  {
   "cell_type": "markdown",
   "metadata": {
    "slideshow": {
     "slide_type": "slide"
    }
   },
   "source": [
    "### Ficheros y entrada/salida, apertura de ficheros e introducción de contextos."
   ]
  },
  {
   "cell_type": "markdown",
   "metadata": {
    "slideshow": {
     "slide_type": "fragment"
    }
   },
   "source": [
    "Para abrir un fichero usamos la función `open()`, que tiene como parámetros el nombre y ruta del fichero y el modo de apertura, una serie de caracteres que definen como se va a usar el fichero abierto.\n",
    "\n",
    "```python\n",
    ">>> f = open('workfile', 'w')\n",
    "```"
   ]
  },
  {
   "cell_type": "markdown",
   "metadata": {
    "slideshow": {
     "slide_type": "slide"
    }
   },
   "source": [
    "- `r` para solo lectura\n",
    "- `w` para solo escritura, siendo borrado cualquier fichero que ya existiera\n",
    "- `a` para añadir contenido al final del fichero\n",
    "- `r+` para lectura y escritura"
   ]
  },
  {
   "cell_type": "markdown",
   "metadata": {
    "slideshow": {
     "slide_type": "slide"
    }
   },
   "source": [
    "Por defecto, si se omite el modo, se asume que es `r`. \n",
    "\n",
    "Además, también por defecto, un fichero se abre en modo texto, lo que significa que lee el contenido como cadenas de texto, aplicando transformaciones que dependen de la plataforma, como es la conversión de los salos de líneas, entre los formatos de Unix o de Windows, aplicando esta transformación tanto a la lectura como a la escritura.\n"
   ]
  },
  {
   "cell_type": "markdown",
   "metadata": {
    "slideshow": {
     "slide_type": "slide"
    }
   },
   "source": [
    "Para abrir en modo **binario** añadimos `b` al final de la cadena de texto que indica el modo."
   ]
  },
  {
   "cell_type": "markdown",
   "metadata": {
    "slideshow": {
     "slide_type": "slide"
    }
   },
   "source": [
    "La función `open` devuelve un descriptor que apunta al fichero, no el contenido. Una vez se deja de usar se tiene que llamar al método `f.close()` del descriptor para cerrar el fichero.\n"
   ]
  },
  {
   "cell_type": "markdown",
   "metadata": {
    "slideshow": {
     "slide_type": "slide"
    }
   },
   "source": [
    "Una buena práctica, para evitar la necesidad de cerrar el descriptor, es usar la palabra reservada `with`. Esto crea lo que se define en Python como un **contexto**.\n",
    "\n",
    "```python\n",
    ">>> with open('workfile') as f:\n",
    "...     read_data = f.read()\n",
    ">>> f.closed\n",
    "True\n",
    "```\n",
    "\n",
    "En este ejemplo, la variable `f` solo existe en el bloque que se ejecuta dentro del `with`, y se llama a `f.close()` una vez que la ejecución sale del bloque."
   ]
  },
  {
   "cell_type": "markdown",
   "metadata": {
    "slideshow": {
     "slide_type": "slide"
    }
   },
   "source": [
    "#### Lectura de contenido"
   ]
  },
  {
   "cell_type": "markdown",
   "metadata": {
    "slideshow": {
     "slide_type": "subslide"
    }
   },
   "source": [
    "##### Método `read(size)`\n",
    "\n",
    "Lee la cantidad de información del fichero indicada en el parámetro size. Si se omite, lee todo el contenido del fichero."
   ]
  },
  {
   "cell_type": "markdown",
   "metadata": {
    "slideshow": {
     "slide_type": "subslide"
    }
   },
   "source": [
    "##### Método `readline()`\n",
    "\n",
    "Cada vez que se llama, lee la siguiente linea del fichero, es decir, hasta el siguiente salto de línea.\n",
    "\n",
    "Para iterar sobre las líneas de un fichero, es más eficiente hacerlo directamente sobre el descriptor del fichero.\n",
    "\n",
    "```python\n",
    ">>> for line in f:\n",
    "...     print(line, end='')\n",
    "...\n",
    "This is the first line of the file.\n",
    "Second line of the file\n",
    "```\n",
    "\n",
    "Puedes leer todas las lineas de un fichero y pasarlas a una lista con `list(f)` o `f.readlines()`."
   ]
  },
  {
   "cell_type": "markdown",
   "metadata": {
    "slideshow": {
     "slide_type": "slide"
    }
   },
   "source": [
    "#### Escritura de contenido"
   ]
  },
  {
   "cell_type": "markdown",
   "metadata": {
    "slideshow": {
     "slide_type": "subslide"
    }
   },
   "source": [
    "##### Método `write(string)`\n",
    "\n",
    "El método `write(string)` escribe el contenido de string en el fichero, devolviendo el número de caracteres escritos."
   ]
  },
  {
   "cell_type": "markdown",
   "metadata": {
    "slideshow": {
     "slide_type": "slide"
    }
   },
   "source": [
    "#### Moverse por el fichero\n",
    "\n",
    "El método `f.tell()` devuelve un entero con la posición en la que nos encontramos en el fichero, representado por el número de bytes desde el comienzo, cuando se abre en modo binario.\n",
    "\n",
    "Con el método `f.seek(offset, from_what)` nos podemos desplazar por el fichero. La posición a la que nos movemos se calcula añadiendo lo indicado en el offset a la posición refernciada en from_what, que es 0 para el comienzo del fichero, 1 para la posición actual del descriptor y 2 para el final del fichero.\n"
   ]
  },
  {
   "cell_type": "markdown",
   "metadata": {
    "slideshow": {
     "slide_type": "slide"
    }
   },
   "source": [
    "### Paquetes y módulos\n",
    "\n",
    "Cuando salimos del interprete y volvemos a entrar, todas las definiciones y declaraciones que hemos realizado se pierden. Para escribir cualquier programa que vaya más allá de lo que el uso puntual del interprete requiera, debemos escribirlo en un fichero de texto con la extensión `.py`."
   ]
  },
  {
   "cell_type": "markdown",
   "metadata": {
    "slideshow": {
     "slide_type": "slide"
    }
   },
   "source": [
    "El interprete de Python tratara cada uno de estos ficheros como un módulo, `module`. Cada definición de nombres, variables, funciones, etc. que contenga un módulo puede ser importado a otro módulo y ser usado en este."
   ]
  },
  {
   "cell_type": "markdown",
   "metadata": {
    "slideshow": {
     "slide_type": "slide"
    }
   },
   "source": [
    "Por ejemplo, si tenemos el siguiente fichero, `fibo.py`:"
   ]
  },
  {
   "cell_type": "markdown",
   "metadata": {
    "slideshow": {
     "slide_type": "fragment"
    }
   },
   "source": [
    "```python\n",
    "# Módulo números de Fibonacci\n",
    "\n",
    "\n",
    "def fib(n):\n",
    "    a, b = 0, 1\n",
    "    while b < n:\n",
    "        print(b, end=' ')\n",
    "        a, b = b, a+b\n",
    "    print()\n",
    "\n",
    "        \n",
    "def fib2(n):\n",
    "    result = []\n",
    "    a, b = 0, 1\n",
    "    while b < n:\n",
    "        result.append(b)\n",
    "        a, b = b, a+b\n",
    "    return result\n",
    "```"
   ]
  },
  {
   "cell_type": "markdown",
   "metadata": {
    "slideshow": {
     "slide_type": "slide"
    }
   },
   "source": [
    "- Podemos importar estas funciones en el intérprete o en cualquier otro módulo.\n",
    "- Cada módulo define una variable global `__name__`, que contiene el nombre del módulo.\n",
    "\n",
    "```python\n",
    ">>> import fibo\n",
    ">>> fibo.fib(1000)\n",
    "1 1 2 3 5 8 13 21 34 55 89 144 233 377 610 987\n",
    ">>> fibo.fib2(100)\n",
    "[1, 1, 2, 3, 5, 8, 13, 21, 34, 55, 89]\n",
    ">>> fibo.__name__\n",
    "'fibo'\n",
    "```"
   ]
  },
  {
   "cell_type": "markdown",
   "metadata": {
    "slideshow": {
     "slide_type": "slide"
    }
   },
   "source": [
    "Un módulo puede tener instrucciones además de definiciones. Estas instrucciones suelen tener como objetivo inicializar el módulo, y **sólo se ejecutarán la primera vez que se hace un `import` del módulo**. También se ejecutan cuando el fichero de módulo se ejecuta como un script."
   ]
  },
  {
   "cell_type": "markdown",
   "metadata": {
    "slideshow": {
     "slide_type": "slide"
    }
   },
   "source": [
    "Todo módulo tiene su propia tabla de símbolos, por lo que cualquiera puede usar variables globales sin preocuparse de que estas colisionen entre módulos.\n"
   ]
  },
  {
   "cell_type": "markdown",
   "metadata": {
    "slideshow": {
     "slide_type": "slide"
    }
   },
   "source": [
    "Se pueden importar nombres desde un módulo directamente a la tabla de nombres de otro módulo.\n",
    "\n",
    "```python\n",
    ">>> from fibo import fib, fib2\n",
    ">>> fib(500)\n",
    "1 1 2 3 5 8 13 21 34 55 89 144 233 377\n",
    "```"
   ]
  },
  {
   "cell_type": "markdown",
   "metadata": {
    "slideshow": {
     "slide_type": "slide"
    }
   },
   "source": [
    "Y también se pueden importar todos los nombres que define un módulo.\n",
    "\n",
    "```python\n",
    ">>> from fibo import *\n",
    ">>> fib(500)\n",
    "1 1 2 3 5 8 13 21 34 55 89 144 233 377\n",
    "```\n",
    "\n",
    "Esto importa todos los nombres excepto los que empiezan por `_`."
   ]
  },
  {
   "cell_type": "markdown",
   "metadata": {
    "slideshow": {
     "slide_type": "slide"
    }
   },
   "source": [
    "### Ejecutar módulos como scripts\n",
    "\n",
    "Puedes ejecutar cualquier módulo usando el comando de `python`.\n",
    "\n",
    "```\n",
    "$ python fibo.py\n",
    "```\n",
    "\n",
    "Si el código del módulo se ejecuta de esta forma, entonces la variable `__name__` del módulo toma el valor de `__main__`, lo que significa que podemos diferenciar que parte del modulo se ejecutará cuando se importa y cuando se ejecuta como script.\n",
    "\n",
    "```python\n",
    "if __name__ == \"__main__\":\n",
    "    # Sólo ejecuta esto cuando es un script\n",
    "    pass \n",
    "```"
   ]
  },
  {
   "cell_type": "markdown",
   "metadata": {
    "slideshow": {
     "slide_type": "slide"
    }
   },
   "source": [
    "### Paquetes\n",
    "\n",
    "Los paquetes o *packages* de Python son una forma de estructurar los módulos de Python. \n",
    "\n",
    "Se considera un package cualquier carpeta que tenga un fichero llamado `__init__.py`. Este fichero puede estar vacío, pero también puede incluir código para inicializar el paquete. Un paquete puede a su vez contener, o no, uno o varios módulos."
   ]
  },
  {
   "cell_type": "markdown",
   "metadata": {
    "slideshow": {
     "slide_type": "slide"
    }
   },
   "source": [
    "```\n",
    "sound/                          \n",
    "      __init__.py               \n",
    "      formats/                  \n",
    "              __init__.py\n",
    "              wavread.py\n",
    "              wavwrite.py\n",
    "              aiffread.py\n",
    "              aiffwrite.py\n",
    "              auread.py\n",
    "              auwrite.py\n",
    "              ...\n",
    "      effects/                  \n",
    "              __init__.py\n",
    "              echo.py\n",
    "              surround.py\n",
    "              reverse.py\n",
    "              ...\n",
    "      filters/                  \n",
    "              __init__.py\n",
    "              equalizer.py\n",
    "              vocoder.py\n",
    "              karaoke.py\n",
    "              ...\n",
    "```"
   ]
  },
  {
   "cell_type": "markdown",
   "metadata": {
    "slideshow": {
     "slide_type": "slide"
    }
   },
   "source": [
    "Si se intenta hacer un `from sound.effects import *` cabría esperar que esto importara todos los nombres definidos en todos los módulos de dentro del paquete y sus sub-paquetes, pero sería muy costoso, por que se sigue la convención de que el autor de un paquete declare la variable `__all__` como una lista de nombres de los módulos que se importarán cuando se use el * para importar todo."
   ]
  }
 ],
 "metadata": {
  "celltoolbar": "Slideshow",
  "kernelspec": {
   "display_name": "Python 3",
   "language": "python",
   "name": "python3"
  },
  "language_info": {
   "codemirror_mode": {
    "name": "ipython",
    "version": 3
   },
   "file_extension": ".py",
   "mimetype": "text/x-python",
   "name": "python",
   "nbconvert_exporter": "python",
   "pygments_lexer": "ipython3",
   "version": "3.7.1"
  }
 },
 "nbformat": 4,
 "nbformat_minor": 2
}
