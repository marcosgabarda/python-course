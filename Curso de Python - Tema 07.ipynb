{
 "cells": [
  {
   "cell_type": "markdown",
   "metadata": {
    "slideshow": {
     "slide_type": "slide"
    }
   },
   "source": [
    "## 7. Orientación a objetos"
   ]
  },
  {
   "cell_type": "markdown",
   "metadata": {
    "slideshow": {
     "slide_type": "slide"
    }
   },
   "source": [
    "Cuando hablamos de **orientación a objetos** estamos hablando de un **paradigma de programación** que se basa en el concepto de *objetos* y *clases de objetos* para **representar una realidad** concreta en un programa."
   ]
  },
  {
   "attachments": {
    "image.png": {
     "image/png": "[encoded data removed]"
    }
   },
   "cell_type": "markdown",
   "metadata": {
    "slideshow": {
     "slide_type": "slide"
    }
   },
   "source": [
    "- Una **clase** representa una categoría, un concepto general, que agrupa objetos que cumplen una serie de condiciones\n",
    "- Un **objeto** en una concreción, un ejemplo concreto, de uno de los elementos de una clase\n",
    "\n",
    "![image.png](attachment:image.png)"
   ]
  },
  {
   "cell_type": "markdown",
   "metadata": {
    "slideshow": {
     "slide_type": "slide"
    }
   },
   "source": [
    "Las clases son un medio que nos permite juntar datos con funcionalidad. Cuando creas una nueva clase estás creando un nuevo tipo de objeto, permitiendo que puedan crear nuevas instancias de este. Cada clase puede tener:\n",
    "\n",
    "- **Atributos**, que **mantienen su estado**, y\n",
    "- **métodos**, definidos en las clases, que permiten **modificar el estado**."
   ]
  },
  {
   "cell_type": "markdown",
   "metadata": {
    "slideshow": {
     "slide_type": "slide"
    }
   },
   "source": [
    "### Nombres y objetos\n",
    "\n",
    "Un objeto puede tener diferentes nombres en diferentes lugares del programa. \n",
    "\n",
    "Esto es debido a que, como comentábamos al principio, Python internamente, **cuando asignamos un valora una variable, estamos en realidad asociando un nombre a un objeto en concreto**.\n"
   ]
  },
  {
   "cell_type": "markdown",
   "metadata": {
    "slideshow": {
     "slide_type": "slide"
    }
   },
   "source": [
    "Esto es similar al funcionamiento de los punteros en otros lenguajes de programación.\n",
    "\n",
    "Esto permite que pasar objetos a una función sea barato, ya que sólo se está pasando un \"puntero\" al objeto, de forma que si se modifica dentro de la función, el cambio se ve reflejado fuera.\n",
    "\n",
    "Esto se puede aplicar a todos los objetos, **excepto a los tipos básicos inmutables**, como los números, cadenas de texto y tuplas."
   ]
  },
  {
   "cell_type": "code",
   "execution_count": 1,
   "metadata": {
    "slideshow": {
     "slide_type": "slide"
    }
   },
   "outputs": [],
   "source": [
    "def modify_var(var, value):\n",
    "    var = value\n",
    "\n",
    "def modify_list(l, value):\n",
    "    l.append(value)"
   ]
  },
  {
   "cell_type": "code",
   "execution_count": 2,
   "metadata": {
    "slideshow": {
     "slide_type": "slide"
    }
   },
   "outputs": [
    {
     "name": "stdout",
     "output_type": "stream",
     "text": [
      "3\n",
      "3\n",
      "[1, 2, 3]\n",
      "[1, 2, 3, 4]\n"
     ]
    }
   ],
   "source": [
    "var = 3\n",
    "print(var)\n",
    "modify_var(var, 4)\n",
    "print(var)\n",
    "\n",
    "some_list = [1, 2, 3]\n",
    "print(some_list)\n",
    "modify_list(some_list, 4)\n",
    "print(some_list)"
   ]
  },
  {
   "cell_type": "markdown",
   "metadata": {
    "slideshow": {
     "slide_type": "slide"
    }
   },
   "source": [
    "### Namespaces y scopes\n",
    "\n",
    "Antes de entrar en detalle en las clases, conviene entender qué son y cómo funcionan las **espacios de nombres** (namespaces) y las **reglas de alcance** (scopes) en Python."
   ]
  },
  {
   "cell_type": "markdown",
   "metadata": {
    "slideshow": {
     "slide_type": "slide"
    }
   },
   "source": [
    "Un **namespace** es un mapa que asocia nombres a objetos, implementado internamente usando diccionarios de Python.\n",
    "\n",
    "No existe ninguna relación entre los nombres definidos en diferentes **namespaces**."
   ]
  },
  {
   "cell_type": "markdown",
   "metadata": {
    "slideshow": {
     "slide_type": "slide"
    }
   },
   "source": [
    "Un **scope** es una región de un programa de Python desde donde un **namespace** se puede acceder directamente. En todo momento de la ejecución de un programa, hay siempre al menos tres **scopes** anidados:"
   ]
  },
  {
   "cell_type": "markdown",
   "metadata": {
    "slideshow": {
     "slide_type": "fragment"
    }
   },
   "source": [
    "1. El scope local, el más interno, que contiene las definiciones de los nombres locales.\n",
    "2. El scope de cualquier función dentro de la que estemos, empezando por la más interna a la más externa.\n",
    "3. El scope que contiene los nombres a nivel de módulo.\n",
    "4. El scope que contiene los nombres reservados del lenguaje."
   ]
  },
  {
   "cell_type": "markdown",
   "metadata": {
    "slideshow": {
     "slide_type": "slide"
    }
   },
   "source": [
    "Hay formas de hacer referencia a scopes diferentes, usando `global` y `nonlocal`."
   ]
  },
  {
   "cell_type": "code",
   "execution_count": 3,
   "metadata": {
    "slideshow": {
     "slide_type": "slide"
    }
   },
   "outputs": [
    {
     "name": "stdout",
     "output_type": "stream",
     "text": [
      "Después de la asignación local: test spam\n",
      "Después de la asignación nonocal: nonlocal spam\n",
      "Después de la asignación global: nonlocal spam\n",
      "En el scope global: global spam\n"
     ]
    }
   ],
   "source": [
    "def scope_test():\n",
    "    def do_local():\n",
    "        spam = \"local spam\"\n",
    "\n",
    "    def do_nonlocal():\n",
    "        nonlocal spam\n",
    "        spam = \"nonlocal spam\"\n",
    "\n",
    "    def do_global():\n",
    "        global spam\n",
    "        spam = \"global spam\"\n",
    "\n",
    "    spam = \"test spam\"\n",
    "    do_local()\n",
    "    print(\"Después de la asignación local:\", spam)\n",
    "    do_nonlocal()\n",
    "    print(\"Después de la asignación nonocal:\", spam)\n",
    "    do_global()\n",
    "    print(\"Después de la asignación global:\", spam)\n",
    "\n",
    "scope_test()\n",
    "print(\"En el scope global:\", spam)"
   ]
  },
  {
   "cell_type": "code",
   "execution_count": null,
   "metadata": {},
   "outputs": [],
   "source": []
  }
 ],
 "metadata": {
  "celltoolbar": "Slideshow",
  "kernelspec": {
   "display_name": "Python 3",
   "language": "python",
   "name": "python3"
  },
  "language_info": {
   "codemirror_mode": {
    "name": "ipython",
    "version": 3
   },
   "file_extension": ".py",
   "mimetype": "text/x-python",
   "name": "python",
   "nbconvert_exporter": "python",
   "pygments_lexer": "ipython3",
   "version": "3.7.1"
  }
 },
 "nbformat": 4,
 "nbformat_minor": 2
}
