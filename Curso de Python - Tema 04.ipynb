{
 "cells": [
  {
   "cell_type": "markdown",
   "metadata": {
    "slideshow": {
     "slide_type": "slide"
    }
   },
   "source": [
    "## 4. Estructuras de datos básica (listas, tuplas, diccionarios y operaciones)"
   ]
  },
  {
   "cell_type": "markdown",
   "metadata": {
    "slideshow": {
     "slide_type": "fragment"
    }
   },
   "source": [
    "Python incluye varios tipos de datos usados para agrupar valores."
   ]
  },
  {
   "cell_type": "markdown",
   "metadata": {
    "slideshow": {
     "slide_type": "slide"
    }
   },
   "source": [
    "### Listas\n",
    "\n",
    "Una lista es una estructura de datos mutable compuesta por varios elementos que pueden ser de  diferentes tipos. Se escribe con sus elementos separados por comas, y entre corchetes."
   ]
  },
  {
   "cell_type": "code",
   "execution_count": null,
   "metadata": {
    "slideshow": {
     "slide_type": "fragment"
    }
   },
   "outputs": [],
   "source": [
    "squares = [1, 4, 9, 16, 25]\n",
    "squares"
   ]
  },
  {
   "cell_type": "markdown",
   "metadata": {
    "slideshow": {
     "slide_type": "slide"
    }
   },
   "source": [
    "También se puede declarar usando la palabra reservada `list`."
   ]
  },
  {
   "cell_type": "code",
   "execution_count": null,
   "metadata": {
    "slideshow": {
     "slide_type": "fragment"
    }
   },
   "outputs": [],
   "source": [
    "squares = list(1)\n",
    "squares"
   ]
  },
  {
   "cell_type": "markdown",
   "metadata": {
    "slideshow": {
     "slide_type": "slide"
    }
   },
   "source": [
    "#### Operaciones sobre listas\n",
    "\n",
    "Un objeto de tipo lista soporta el acceso a cada uno de sus elementos mediante el operador `[]`, indicando la posición del elemento, teniendo en cuenta que empezamos en la posición 0. "
   ]
  },
  {
   "cell_type": "code",
   "execution_count": null,
   "metadata": {
    "slideshow": {
     "slide_type": "fragment"
    }
   },
   "outputs": [],
   "source": [
    "squares = [1, 4, 9, 16, 25]\n",
    "squares[0]"
   ]
  },
  {
   "cell_type": "markdown",
   "metadata": {
    "slideshow": {
     "slide_type": "slide"
    }
   },
   "source": [
    "A su vez, el operador `[]` permite acceder a porciones de una lista usando el operador `:`, indicando a la izquierda la posición inicial y a la derecha la posición final. A su vez, también soporta el uso de índices negativos, para hacer referencia a las posiciones desde el final de la lista."
   ]
  },
  {
   "cell_type": "code",
   "execution_count": null,
   "metadata": {
    "slideshow": {
     "slide_type": "fragment"
    }
   },
   "outputs": [],
   "source": [
    "print(squares[:1:-1])  # el primer elemento\n",
    "print(squares[:-1])  # todos menos el último elemento\n",
    "print(squares[1:-1]) # todos menos el primero y el último elemento"
   ]
  },
  {
   "cell_type": "markdown",
   "metadata": {
    "slideshow": {
     "slide_type": "slide"
    }
   },
   "source": [
    "Podemos obtener el tamaño de una lista usando la función `len()`."
   ]
  },
  {
   "cell_type": "code",
   "execution_count": null,
   "metadata": {
    "slideshow": {
     "slide_type": "fragment"
    }
   },
   "outputs": [],
   "source": [
    "len(squares)"
   ]
  },
  {
   "cell_type": "markdown",
   "metadata": {
    "slideshow": {
     "slide_type": "slide"
    }
   },
   "source": [
    "Se puede comprobar si un elemento aparece en una lista usando el operador `in`."
   ]
  },
  {
   "cell_type": "code",
   "execution_count": null,
   "metadata": {
    "slideshow": {
     "slide_type": "fragment"
    }
   },
   "outputs": [],
   "source": [
    "16 in squares"
   ]
  },
  {
   "cell_type": "markdown",
   "metadata": {
    "slideshow": {
     "slide_type": "slide"
    }
   },
   "source": [
    "#### Métodos de listas"
   ]
  },
  {
   "cell_type": "markdown",
   "metadata": {
    "slideshow": {
     "slide_type": "subslide"
    }
   },
   "source": [
    "`list.append(x)`\n",
    "\n",
    "Añade un elemento al final de la lista. Es equivalente a `a[len(a):] = [x]`.\n",
    "\n",
    "`list.extend(iterable)`\n",
    "\n",
    "Extiende la lista añadiendo todos los elementos del argumento. Es equivalente a `a[len(a):] = iterable`.\n",
    "\n",
    "`list.insert(i, x)`\n",
    "\n",
    "Inserta un elemento en la posición indicada. El primer argumento es el índice del elemento antes del cual se va a insertar, por lo tanto `a.insert(0, x)` inserta en principio de la lista, y `a.insert(len(a), x)` es equivalente a `a.append(x)`."
   ]
  },
  {
   "cell_type": "markdown",
   "metadata": {
    "slideshow": {
     "slide_type": "subslide"
    }
   },
   "source": [
    "\n",
    "`list.remove(x)`\n",
    "\n",
    "Elimina el primer elemento de lista cuyo valor sea `x`. Da un error si no existe el elemento.\n",
    "\n",
    "`list.pop([i])`\n",
    "\n",
    "Elimina el elemento en la posición dada y lo devuelve. Si no se especifica un índice, `a.pop()` elimina y devuelve el último elemento de la lista.\n",
    "\n",
    "`list.clear()`\n",
    "\n",
    "Elimina todos los elementos de la lista. Es equivalente a `del a[:]`."
   ]
  },
  {
   "cell_type": "markdown",
   "metadata": {
    "slideshow": {
     "slide_type": "subslide"
    }
   },
   "source": [
    "`list.index(x[, start[, end]])`\n",
    "\n",
    "\n",
    "Devuelve el índice en la lista del primer elemento cuyo valor es `x`. Los argumentos opcionales `start` y `end` se usan para buscar solo en el segmento de la lista limitado por ellos, y en caso de usarlos, el índice devuelto es relativo a la lista entera, no al segmento.\n",
    "\n",
    "\n",
    "`list.count(x)`\n",
    "\n",
    "Devuelve el número de veces que `x` aparece en la lista"
   ]
  },
  {
   "cell_type": "markdown",
   "metadata": {
    "slideshow": {
     "slide_type": "subslide"
    }
   },
   "source": [
    "`list.sort(key=None, reverse=False)`\n",
    "\n",
    "Ordena los elementos de la lista.\n",
    "\n",
    "`list.reverse()`\n",
    "\n",
    "Da la vuelta a la lista.\n",
    "\n",
    "`list.copy()`\n",
    "\n",
    "Devuelve una copia de la lista. Es equivalente a `a[:]`."
   ]
  },
  {
   "cell_type": "code",
   "execution_count": null,
   "metadata": {
    "slideshow": {
     "slide_type": "slide"
    }
   },
   "outputs": [],
   "source": [
    "fruits = ['orange', 'apple', 'pear', 'banana', 'kiwi', 'apple', 'banana']\n",
    "print(fruits.count('apple'))\n",
    "print(fruits.count('tangerine'))\n",
    "print(fruits.index('banana'))\n",
    "print(fruits.index('banana', 4))\n",
    "\n",
    "fruits.reverse()\n",
    "print(fruits)\n",
    "\n",
    "fruits.append('grape')\n",
    "print(fruits)\n",
    "\n",
    "fruits.sort()\n",
    "print(fruits)\n",
    "\n",
    "print(fruits.pop())"
   ]
  },
  {
   "cell_type": "markdown",
   "metadata": {
    "slideshow": {
     "slide_type": "slide"
    }
   },
   "source": [
    "### Tuplas\n",
    "\n",
    "Las tuplas funcionan de la misma forma que las listas, pero son estructuras de datos **inmutables**, es decir, una vez declarada una tupla, no se puede modificar su contenido. Se declara separando los valores con comas.\n"
   ]
  },
  {
   "cell_type": "code",
   "execution_count": null,
   "metadata": {
    "slideshow": {
     "slide_type": "slide"
    }
   },
   "outputs": [],
   "source": [
    "squares = 1, 4, 9, 16, 25\n",
    "empty = ()\n",
    "one = ('lonely',)\n",
    "\n",
    "print(squares)\n",
    "print(empty)\n",
    "print(one)"
   ]
  },
  {
   "cell_type": "code",
   "execution_count": null,
   "metadata": {
    "slideshow": {
     "slide_type": "fragment"
    }
   },
   "outputs": [],
   "source": [
    "squares [0] = 2"
   ]
  },
  {
   "cell_type": "markdown",
   "metadata": {
    "slideshow": {
     "slide_type": "slide"
    }
   },
   "source": [
    "Una tupla también puede ser desempaquetada usando la notación para declararla al revés."
   ]
  },
  {
   "cell_type": "code",
   "execution_count": null,
   "metadata": {
    "slideshow": {
     "slide_type": "fragment"
    }
   },
   "outputs": [],
   "source": [
    "t = \"apple\", \"bannana\", \"orange\"\n",
    "x, y, z = t\n",
    "print(x, y, z)"
   ]
  },
  {
   "cell_type": "markdown",
   "metadata": {
    "slideshow": {
     "slide_type": "slide"
    }
   },
   "source": [
    "### Sets\n",
    "\n",
    "Los sets funcionan como las listas, solo que ésta estructura de datos se asegura de que no hayan valores repetidos. El set es una colección de elementos **no ordenada**. Existen dos versiones de set, la mutable, `set` y la no mutable, `frozenset`. \n",
    "\n",
    "Se crea usando las llaves, `{}`."
   ]
  },
  {
   "cell_type": "code",
   "execution_count": null,
   "metadata": {
    "slideshow": {
     "slide_type": "slide"
    }
   },
   "outputs": [],
   "source": [
    "squares = {1, 4, 9, 16, 25}\n",
    "print(squares)\n",
    "\n",
    "squares.add(1)\n",
    "print(squares)\n",
    "\n",
    "squares.add(36)\n",
    "print(squares)"
   ]
  },
  {
   "cell_type": "markdown",
   "metadata": {
    "slideshow": {
     "slide_type": "slide"
    }
   },
   "source": [
    "#### Operaciones con sets\n",
    "\n",
    "Estas operaciones son compatibles con los `set` y los `frozenset`."
   ]
  },
  {
   "cell_type": "markdown",
   "metadata": {
    "slideshow": {
     "slide_type": "subslide"
    }
   },
   "source": [
    "`isdisjoint(other)`\n",
    "\n",
    "Devuelve `True` si el set no tiene elementos en común con el otro.\n",
    "\n",
    "`issubset(other)`, `set <= other`, `set < other`\n",
    "\n",
    "Comprueba si todos los elementos del set están en el otro.\n",
    " is, set <= other and set != other.\n",
    "\n",
    "`issuperset(other)`, `set >= other`, `set > other`\n",
    "\n",
    "Comprueba si todos los elementos del otro están el set.\n",
    "\n",
    "`union(*others)` , `set | other | ...`\n",
    "\n",
    "Devuelve un nuevo set con los elementos del set y de los otros."
   ]
  },
  {
   "cell_type": "markdown",
   "metadata": {
    "slideshow": {
     "slide_type": "subslide"
    }
   },
   "source": [
    "`intersection(*others)`, `set & other & ...`\n",
    "\n",
    "Devuelve un nuevo set con todos los elementos en común con el set y los otros.\n",
    "\n",
    "`difference(*others)`, `set - other - ...`\n",
    "\n",
    "Devuelve un nuevo set con los elementos del set que no están en los otros.\n",
    "\n",
    "`symmetric_difference(other)`, `set ^ other`\n",
    "\n",
    "Devuelve un nuevo set con los elementos que están en un set o en otro, pero no en los dos.\n",
    "\n",
    "`copy()`\n",
    "\n",
    "Devuelve una copia del set."
   ]
  },
  {
   "cell_type": "markdown",
   "metadata": {
    "slideshow": {
     "slide_type": "slide"
    }
   },
   "source": [
    "**Las siguientes operaciones solo son compatibles con los `set`.**\n",
    "\n",
    "`add(elem)`\n",
    "\n",
    "Añade un elemento.\n",
    "\n",
    "`remove(elem)`\n",
    "\n",
    "Borra el elemento, y da un error si no existe.\n",
    "\n",
    "`discard(elem)`\n",
    "\n",
    "Borra el elemento si existe.\n",
    "\n",
    "`pop()`\n",
    "\n",
    "Borra un elemento aleatorio del set, y da error si está vacío.\n",
    "\n",
    "`clear()`\n",
    "\n",
    "Borra los elementos de un set.\n"
   ]
  },
  {
   "cell_type": "code",
   "execution_count": null,
   "metadata": {
    "slideshow": {
     "slide_type": "slide"
    }
   },
   "outputs": [],
   "source": [
    "fib1 = {1 , 2 , 3 , 5 , 8 , 13 , 21 , 34 , 55}\n",
    "fib2 = {1 , 2 , 3 , 5 , 8}\n",
    "even = {2, 4, 6, 8, 10, 12, 14, 16}\n",
    "\n",
    "print(fib1.isdisjoint(even))\n",
    "\n",
    "print(fib1 < even)\n",
    "print(fib2 < fib1)\n",
    "\n",
    "print(fib1.issuperset(even))\n",
    "print(fib1 > even)\n",
    "\n",
    "print(fib1 | even)\n",
    "\n",
    "print(fib1 & even)\n",
    "\n",
    "print(fib1 - even)\n"
   ]
  },
  {
   "cell_type": "markdown",
   "metadata": {
    "slideshow": {
     "slide_type": "slide"
    }
   },
   "source": [
    "### Diccionarios\n",
    "\n",
    "Los diccionarios son una estructura de datos **mutable** que permiten almacenar datos de una forma parecida a las listas, pero en vez de usar un número, el índice, para referenciar el dato, se puede usar prácticamente cualquier cosa. Es como una base de datos para guardar y organizar información.\n",
    "\n",
    "Se pueden crear declarando una lista de elementos `key: value` separados por comas y rodeados de `{}`. También se puede usar `dict()` para crear el diccionario."
   ]
  },
  {
   "cell_type": "code",
   "execution_count": null,
   "metadata": {
    "slideshow": {
     "slide_type": "slide"
    }
   },
   "outputs": [],
   "source": [
    "person = {'name': 'Antonio', 'age': 42}\n",
    "print(person['name'])"
   ]
  },
  {
   "cell_type": "code",
   "execution_count": null,
   "metadata": {
    "slideshow": {
     "slide_type": "fragment"
    }
   },
   "outputs": [],
   "source": [
    "person['last_name'] = 'Smith'\n",
    "print(person)"
   ]
  },
  {
   "cell_type": "markdown",
   "metadata": {
    "slideshow": {
     "slide_type": "slide"
    }
   },
   "source": [
    "#### Operaciones sobre diccionarios"
   ]
  },
  {
   "cell_type": "markdown",
   "metadata": {
    "slideshow": {
     "slide_type": "subslide"
    }
   },
   "source": [
    "`d[key]`\n",
    "\n",
    "Accede al elemento con clave `key` del diccionario `d`. Lanza un error si `key` no existe en el diccionario.\n",
    "\n",
    "`d[key] = value`\n",
    "\n",
    "Guarda `value` en la clave `key` del diccionario `d`.\n",
    "\n",
    "`del d[key]`\n",
    "\n",
    "Borra `d[key]` del diccionario.\n",
    "\n",
    "`key in d`\n",
    "\n",
    "Comprueba si `d` tiene la clave `key`.\n"
   ]
  },
  {
   "cell_type": "markdown",
   "metadata": {
    "slideshow": {
     "slide_type": "subslide"
    }
   },
   "source": [
    "`key not in d`\n",
    "\n",
    "Comprueba si `d` no tiene la clave `key`.\n",
    "\n",
    "`iter(d)`\n",
    "\n",
    "Devuelve un iterador sobre las claves del diccionario.\n",
    "\n",
    "`d.clear()`\n",
    "\n",
    "Borra todos los elementos del diccionario.\n",
    "\n",
    "`d.copy()`\n",
    "\n",
    "Copia el diccionario."
   ]
  },
  {
   "cell_type": "markdown",
   "metadata": {
    "slideshow": {
     "slide_type": "subslide"
    }
   },
   "source": [
    "`d.get(key[, default])`\n",
    "\n",
    "Devuelve el contenido de `d[key]` en caso de que `key` esté en el diccionario, y en caso contrario, devuelve el valor de `default`, o `None` si no se ha concretado.\n",
    "\n",
    "`d.items()`\n",
    "\n",
    "Devuelve una el diccionario como una lista de tuplas `(key, value)`.\n",
    "\n",
    "`d.keys()`\n",
    "\n",
    "Devuelve una lista con las claves del diccionario.\n",
    "\n",
    "`pop(key[, default])`\n",
    "    \n",
    "Si la clave está en el diccionario, la elimina y devuelve su valor, si no, devuelve el valor de `defaul`.\n"
   ]
  },
  {
   "cell_type": "markdown",
   "metadata": {
    "slideshow": {
     "slide_type": "slide"
    }
   },
   "source": [
    "`popitem()`\n",
    "\n",
    "Elimina y devuelve un elemento aleatorio `(key, value)` del diccionario.\n",
    "\n",
    "`setdefault(key[, default])`\n",
    "\n",
    "Si la clave está en el diccionario, devuelve el valor, si no, inserta en la clave el valor dado en `default`, o None si no se ha dado ningún valor.\n",
    "\n",
    "`update([other])`\n",
    "\n",
    "\n",
    "Actualiza el diccionario con las claves y valores del otro diccionario dado, sobreescribiendo las existentes.\n",
    "\n",
    "`values()`\n",
    "\n",
    "Devuelve una lista de los valores del diccionario.\n"
   ]
  },
  {
   "cell_type": "markdown",
   "metadata": {
    "slideshow": {
     "slide_type": "slide"
    }
   },
   "source": [
    "### Collections\n",
    "\n",
    "El módulo `collections` implementa contenedores especializados para ser usados como alternativas a los contenedores multipropósito que ofrece Python, como `dict`, `list`, `set` y `tuple` que hemos visto anteriormente."
   ]
  },
  {
   "cell_type": "markdown",
   "metadata": {
    "slideshow": {
     "slide_type": "slide"
    }
   },
   "source": [
    "#### Objetos `Counter`\n",
    "\n",
    "Un objeto `Counter` es una subclase de `dict` para contar objetos. Es una colección no ordenada donde los elementos son almacenados como claves de diccionario y sus cuentas como los valores de esas claves.\n"
   ]
  },
  {
   "cell_type": "code",
   "execution_count": null,
   "metadata": {
    "slideshow": {
     "slide_type": "slide"
    }
   },
   "outputs": [],
   "source": [
    "import collections\n",
    "\n",
    "c = collections.Counter()\n",
    "print(c)\n",
    "c = collections.Counter(\"gandalf\")\n",
    "print(c)\n",
    "c = collections.Counter({'red': 4, 'blue': 2})\n",
    "print(c)\n",
    "c = collections.Counter([\"cats\"] * 4 + [\"dogs\"] * 8)\n",
    "print(c)"
   ]
  },
  {
   "cell_type": "markdown",
   "metadata": {
    "slideshow": {
     "slide_type": "slide"
    }
   },
   "source": [
    "Se puede acceder a la cuenta como si se tratara de un diccionario, pero en vez de dar una excepción cuando no existe un elemento, devuelve 0."
   ]
  },
  {
   "cell_type": "code",
   "execution_count": null,
   "metadata": {
    "slideshow": {
     "slide_type": "fragment"
    }
   },
   "outputs": [],
   "source": [
    "print(\"Gatos:\", c['cats'])\n",
    "print(\"Hamsters:\", c['hamsters'])"
   ]
  },
  {
   "cell_type": "markdown",
   "metadata": {
    "slideshow": {
     "slide_type": "slide"
    }
   },
   "source": [
    "##### Métodos\n",
    "\n",
    "A los métodos que tiene `dict`, `Counter` añade los siguientes.\n",
    "\n",
    "`elements()`\n",
    "\n",
    "Devuelve un iterador sobre los elementos, repetidos tantas veces como su cuenta. Los elementos se devuelven en un orden arbitrario, y si su cuenta es menor que 1, se ingora.\n",
    "\n",
    "`most_common([n])`\n",
    "\n",
    "Devuelve la lista de los *n* elementos más comunes y sus cuentas. Si se omite el parámetro *n* se muestran todos los elementos.\n",
    "\n",
    "` subtract([iterable-or-mapping])`\n",
    "\n",
    "Elimina de las cuentas `Counter` tantos elementos como aparezcan en el iterable pasado por parámetro."
   ]
  },
  {
   "cell_type": "markdown",
   "metadata": {
    "slideshow": {
     "slide_type": "slide"
    }
   },
   "source": [
    "#### Objetos `deque`\n",
    "\n",
    "Un objeto `deque` es una generalización de pilas y colas, y soportan operaciones de inserción y de eliminación eficientes y seguras desde cualquier lado de la cola.\n",
    "\n",
    "La lista soporta operaciones similares, pero por ejemplo, el coste de insertar un elemento en el principio es de *O(n)*, mientras que en un objeto de `deque` es aproximadamente de *O(1)*."
   ]
  },
  {
   "cell_type": "code",
   "execution_count": null,
   "metadata": {
    "slideshow": {
     "slide_type": "slide"
    }
   },
   "outputs": [],
   "source": [
    "import collections\n",
    "\n",
    "d = collections.deque('bcd')\n",
    "for elem in d:\n",
    "    print(elem)"
   ]
  },
  {
   "cell_type": "markdown",
   "metadata": {
    "slideshow": {
     "slide_type": "slide"
    }
   },
   "source": [
    "##### Métodos\n",
    "\n",
    "`append(x)`\n",
    "\n",
    "Añade `x` al lado derecho del `deque`.\n",
    "\n",
    "`appendleft(x)`\n",
    "\n",
    "Añade `x` al lado izquierdo del `deque`.\n",
    "\n",
    "`clear()`\n",
    "\n",
    "Borra todos los elementos.\n",
    "\n",
    "`copy()`\n",
    "\n",
    "Crea una copia.\n",
    "\n",
    "`count(x)`\n",
    "\n",
    "Cuenta los elementos que sean igual a `x`.\n"
   ]
  },
  {
   "cell_type": "markdown",
   "metadata": {
    "slideshow": {
     "slide_type": "subslide"
    }
   },
   "source": [
    "`extend(iterable)`\n",
    "\n",
    "Extiende por el lado derecho añadiendo los elementos del iterable pasado por argumento.\n",
    "\n",
    "`extendleft(iterable)`\n",
    "\n",
    "Extiende por el lado izquierdo añadiendo los elementos del iterable pasado por argumento.\n",
    "\n",
    "`index(x[, start[, stop]])`\n",
    "\n",
    "Devuelve la posicion del primer elemento `x` que encuentre.\n",
    "\n",
    "`insert(i, x)`\n",
    "\n",
    "Inserta `x` en la posición `i`.\n",
    "\n",
    "`pop()`\n",
    "\n",
    "Elimina y devuelve el primer lemento del lado derecho.\n",
    "\n",
    "`popleft()`\n",
    "\n",
    "Elimina y devuelve el primer lemento del lado izquierdo."
   ]
  },
  {
   "cell_type": "markdown",
   "metadata": {
    "slideshow": {
     "slide_type": "subslide"
    }
   },
   "source": [
    "`remove(x)`\n",
    "\n",
    "Borra el primer elemento que sea igual a `x`.\n",
    "\n",
    "`reverse()`\n",
    "\n",
    "Da la vuelta al orden de los elementos.\n",
    "\n",
    "`rotate(n=1)`\n",
    "\n",
    "Rota los elementos `n` pasos a la derecha. Si `n` es negativo, rota a la izquierda.\n",
    "\n"
   ]
  },
  {
   "cell_type": "code",
   "execution_count": null,
   "metadata": {
    "slideshow": {
     "slide_type": "slide"
    }
   },
   "outputs": [],
   "source": [
    "d.append('e')\n",
    "d.appendleft('a')\n",
    "print(d)\n",
    "\n",
    "d.rotate(1)\n",
    "print(d)\n",
    "\n",
    "d.rotate(-1)\n",
    "print(d)"
   ]
  },
  {
   "cell_type": "markdown",
   "metadata": {
    "slideshow": {
     "slide_type": "slide"
    }
   },
   "source": [
    "#### Objetos `defaultdict`\n",
    "\n",
    "Un objeto `defaultdict` es una subclase de `dict`, con la diferencia de que en el constructot se le puede pasar un objeto clase que será utilizado para inicializar el diccionario en caso de que se trate de acceder a una clave que no exista en ese momento."
   ]
  },
  {
   "cell_type": "code",
   "execution_count": null,
   "metadata": {
    "slideshow": {
     "slide_type": "slide"
    }
   },
   "outputs": [],
   "source": [
    "import collections\n",
    "\n",
    "sample = [('yellow', 1), ('blue', 2), ('yellow', 3), ('blue', 4), ('red', 1)]\n",
    "d = collections.defaultdict(list)\n",
    "\n",
    "for key, value in sample:\n",
    "    d[key].append(value)\n",
    "    print(d)\n",
    "    \n",
    "print(d)"
   ]
  },
  {
   "cell_type": "markdown",
   "metadata": {
    "slideshow": {
     "slide_type": "slide"
    }
   },
   "source": [
    "#### Objetos `OrderedDict`\n",
    "\n",
    "Los objetos `OrderedDict` son como los diccionarios normales pero conservando el orden en el que los elementos fueron añadidos al diccionarios. Cuando se itera sobre un diccionario ordenado, los elementos se devuelven en el orden que fueron añadidos."
   ]
  },
  {
   "cell_type": "code",
   "execution_count": null,
   "metadata": {
    "slideshow": {
     "slide_type": "slide"
    }
   },
   "outputs": [],
   "source": [
    "import collections\n",
    "\n",
    "\n",
    "d = {'banana': 3, 'apple': 4, 'pear': 1, 'orange': 2}\n",
    "\n",
    "od = collections.OrderedDict(sorted(d.items(), key=lambda t: t[0]))\n",
    "print(od)\n",
    "\n",
    "od = collections.OrderedDict(sorted(d.items(), key=lambda t: t[1]))\n",
    "print(od)\n",
    "\n",
    "od = collections.OrderedDict(sorted(d.items(), key=lambda t: len(t[0])))\n",
    "print(od)\n"
   ]
  },
  {
   "cell_type": "markdown",
   "metadata": {
    "slideshow": {
     "slide_type": "slide"
    }
   },
   "source": [
    "#### Objetos `namedtuple`\n",
    "\n",
    "El objeto `namedtuple` es una factoría que devuelve una subclase de `tuple`, con el nombre que se le indica por parámetro. La nueva subclase tiene campos que son accesibles como si fueran atributos de una clase.\n"
   ]
  },
  {
   "cell_type": "code",
   "execution_count": null,
   "metadata": {
    "slideshow": {
     "slide_type": "slide"
    }
   },
   "outputs": [],
   "source": [
    "import collections\n",
    "\n",
    "\n",
    "Point = collections.namedtuple('Point', ['x', 'y'])\n",
    "p = Point(11, y=22) \n",
    "print(p[0] + p[1])\n",
    "\n",
    "x, y = p\n",
    "print(x, y)\n",
    "\n",
    "print(p.x + p.y )\n",
    "\n",
    "print(p)"
   ]
  }
 ],
 "metadata": {
  "celltoolbar": "Slideshow",
  "kernelspec": {
   "display_name": "Python 3",
   "language": "python",
   "name": "python3"
  },
  "language_info": {
   "codemirror_mode": {
    "name": "ipython",
    "version": 3
   },
   "file_extension": ".py",
   "mimetype": "text/x-python",
   "name": "python",
   "nbconvert_exporter": "python",
   "pygments_lexer": "ipython3",
   "version": "3.7.1"
  }
 },
 "nbformat": 4,
 "nbformat_minor": 2
}
