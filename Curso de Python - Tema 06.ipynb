{
 "cells": [
  {
   "cell_type": "markdown",
   "metadata": {
    "slideshow": {
     "slide_type": "slide"
    }
   },
   "source": [
    "## 6. Funciones"
   ]
  },
  {
   "attachments": {
    "image.png": {
     "image/png": "[encoded data removed]"
    }
   },
   "cell_type": "markdown",
   "metadata": {
    "slideshow": {
     "slide_type": "slide"
    }
   },
   "source": [
    "Podemos entender una **función** como un bloque de código reutilizable que lleva a cabo una acción determinada.\n",
    "\n",
    "Podemos entenderla como un *proceso* que puede tener (o no) una entrada y genera (o no) una salida.\n",
    "\n",
    "![image.png](attachment:image.png)"
   ]
  },
  {
   "cell_type": "markdown",
   "metadata": {
    "slideshow": {
     "slide_type": "slide"
    }
   },
   "source": [
    "\n",
    "Como hemos comentado en la introducción, **todo en Python es un objeto**, y también lo son las funciones.\n",
    "\n",
    "Una función se define con la palabra reservada `def` seguida del nombre de la función que queremos crear, y poniendo a continuación, entre paréntesis, los argumentos de la función."
   ]
  },
  {
   "cell_type": "code",
   "execution_count": null,
   "metadata": {
    "slideshow": {
     "slide_type": "slide"
    }
   },
   "outputs": [],
   "source": [
    "def fib(n):   \n",
    "    \"\"\"Muestra la secuencia de Fibonacci hasta n.\"\"\"\n",
    "    a, b = 0, 1\n",
    "    while a < n:\n",
    "        print(a, end=' ')\n",
    "        a, b = b, a+b\n",
    "    print()\n",
    "\n",
    "fib(2000)"
   ]
  },
  {
   "cell_type": "markdown",
   "metadata": {
    "slideshow": {
     "slide_type": "slide"
    }
   },
   "source": [
    "Las funciones son ciudadanos de primera clase, esto es que pueden ser tratadas como si fueran objetos, y ser pasadas por ejemplo, como argumentos de otras funciones. Se puede hacer referencia a la función con el nombre de esta, sin usar paréntesis."
   ]
  },
  {
   "cell_type": "code",
   "execution_count": null,
   "metadata": {
    "slideshow": {
     "slide_type": "slide"
    }
   },
   "outputs": [],
   "source": [
    "fib"
   ]
  },
  {
   "cell_type": "code",
   "execution_count": null,
   "metadata": {
    "slideshow": {
     "slide_type": "fragment"
    }
   },
   "outputs": [],
   "source": [
    "f = fib\n",
    "print(id(f), id(fib))"
   ]
  },
  {
   "cell_type": "markdown",
   "metadata": {
    "slideshow": {
     "slide_type": "slide"
    }
   },
   "source": [
    "### Valor de retorno\n",
    "\n",
    "Se usa la palabra reservada `return` para definir el valor que una función devuelve. Aunque una función no incluya una instrucción `return`, esta siempre devuelve `None`."
   ]
  },
  {
   "cell_type": "markdown",
   "metadata": {
    "slideshow": {
     "slide_type": "slide"
    }
   },
   "source": [
    "### Argumentos\n",
    "\n",
    "Una función puede recibir cualquier número de argumentos, pudiendo definir valores por defecto.\n",
    "\n",
    "Se pueden pasar argumentos a las funciones de dos formas:\n",
    "\n",
    "- Posicionalmente, donde cada valor pasado como argumento se asociará al argumento que esté en la misma posición en la declaración.\n",
    "- Por nombre, donde indicamos a que argumento se asocia cada valor, usando el operador de asignación `=`."
   ]
  },
  {
   "cell_type": "markdown",
   "metadata": {
    "slideshow": {
     "slide_type": "slide"
    }
   },
   "source": [
    "### Argumentos genéricos\n",
    "\n",
    "Podemos declarar una función que reciba un número de argumentos arbitrario. Para ello solo tenemos que poner como argumentos `*args` y `**kwargs`. En este caso, `args` contendrá en una tupla los argumentos pasados posicionalmente, mientras que `kwargs` contendrá en un diccionario todos los argumentos que se le han pasado por nombre.\n",
    "\n",
    "Se pueden crear funciones que tengan un número de argumentos dinámicos. Para ello simplemente declaramos los argumentos de la sigueinte forma:\n"
   ]
  },
  {
   "cell_type": "code",
   "execution_count": null,
   "metadata": {
    "slideshow": {
     "slide_type": "subslide"
    }
   },
   "outputs": [],
   "source": [
    "def generic_arguments(*args, **kwargs):\n",
    "    print(\"Argumentos posicionales:\", args)\n",
    "    print(\"Argumentos por nombre:\", kwargs)\n",
    "\n",
    "d = {\"test\": \"foo\", \"c\": 26}\n",
    "generic_arguments(**d)"
   ]
  },
  {
   "cell_type": "markdown",
   "metadata": {
    "slideshow": {
     "slide_type": "slide"
    }
   },
   "source": [
    "### Funciones lambda\n",
    "\n",
    "Además de las funciones normales, Python nos permite declarar funciones anónimas, o funciones lambda, Para hacerlo, basta con untilizar la palabra reservada `lambda`."
   ]
  },
  {
   "cell_type": "code",
   "execution_count": null,
   "metadata": {
    "slideshow": {
     "slide_type": "slide"
    }
   },
   "outputs": [],
   "source": [
    "l = [(\"food\", 2), (\"water\", 1), (\"air\", 3)]\n",
    "l.sort(key=lambda x: x[1], reverse=True)\n",
    "print(l)\n",
    "\n",
    "\n",
    "def foo(x):\n",
    "    return x[1]\n",
    "l.sort(key=foo, reverse=True)\n",
    "print(l)"
   ]
  },
  {
   "cell_type": "code",
   "execution_count": null,
   "metadata": {
    "slideshow": {
     "slide_type": "slide"
    }
   },
   "outputs": [],
   "source": [
    "print(lambda x: x[1])\n",
    "\n",
    "foo = lambda x: x[1]\n",
    "print(foo(range(5, 10)))"
   ]
  },
  {
   "cell_type": "markdown",
   "metadata": {
    "slideshow": {
     "slide_type": "slide"
    }
   },
   "source": [
    "### Generadores\n",
    "\n",
    "Los generadores son herramientas simples y sencillas para crear iteradores. Un generador se escribe igual que cualquier función, sólo que se usa la instrucción `yield` para devolver los datos, de forma que un **generador produce una secuencia de datos en vez de un valor único**."
   ]
  },
  {
   "cell_type": "code",
   "execution_count": null,
   "metadata": {
    "slideshow": {
     "slide_type": "slide"
    }
   },
   "outputs": [],
   "source": [
    "def countdown(n):\n",
    "    while n > 0:\n",
    "        yield n\n",
    "        n -= 1\n",
    "\n",
    "gen = countdown(10)\n",
    "print(gen)\n",
    "print(next(gen))\n",
    "print(next(gen))\n"
   ]
  },
  {
   "cell_type": "markdown",
   "metadata": {
    "slideshow": {
     "slide_type": "slide"
    }
   },
   "source": [
    "Cuando se llama a una función generador, en realidad no se está ejecutando el código, si no que está creando un objeto generador. No se ejecuta hasta que se llama a la función `next()` con el objeto generador."
   ]
  },
  {
   "cell_type": "code",
   "execution_count": null,
   "metadata": {
    "slideshow": {
     "slide_type": "slide"
    }
   },
   "outputs": [],
   "source": [
    "def countdown(n):\n",
    "    print(\"Cuenta atrás desde:\", n)\n",
    "    while n > 0:\n",
    "        yield n\n",
    "        n -= 1\n",
    "\n",
    "x = countdown(10)\n",
    "print(x)\n",
    "next(x)"
   ]
  }
 ],
 "metadata": {
  "celltoolbar": "Slideshow",
  "kernelspec": {
   "display_name": "Python 3",
   "language": "python",
   "name": "python3"
  },
  "language_info": {
   "codemirror_mode": {
    "name": "ipython",
    "version": 3
   },
   "file_extension": ".py",
   "mimetype": "text/x-python",
   "name": "python",
   "nbconvert_exporter": "python",
   "pygments_lexer": "ipython3",
   "version": "3.7.1"
  }
 },
 "nbformat": 4,
 "nbformat_minor": 2
}
