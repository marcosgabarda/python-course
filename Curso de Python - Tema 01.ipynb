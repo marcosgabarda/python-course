{
 "cells": [
  {
   "cell_type": "markdown",
   "metadata": {
    "slideshow": {
     "slide_type": "slide"
    }
   },
   "source": [
    "# Curso de Python"
   ]
  },
  {
   "cell_type": "markdown",
   "metadata": {
    "slideshow": {
     "slide_type": "slide"
    }
   },
   "source": [
    "## 1. Introducción al lenguaje de Programación Python."
   ]
  },
  {
   "cell_type": "markdown",
   "metadata": {
    "slideshow": {
     "slide_type": "slide"
    }
   },
   "source": [
    "Python es un lenguaje de programación interpretado, interactivo y orientado a\n",
    "objetos. Incorpora módulos, excepciones, tipado dinámico, tipos de datos\n",
    "dinámicos de muy alto nivel y clases."
   ]
  },
  {
   "cell_type": "markdown",
   "metadata": {
    "slideshow": {
     "slide_type": "slide"
    }
   },
   "source": [
    "### Breve historia\n",
    "\n",
    "Lenguaje creado por Guido van Rossum, que empezó su implementación a finales de 1989, y la primera versión pública, Python 0.9, fue liberada en febrero de 1991. El nombre \"Python\" viene dado por la afición de Van Rossum al grupo Monty Python.\n",
    "\n",
    "Python se desarrolla bajo una licencia open source, aprobada por la OSI, haciendo que sea libre de ser usado y distribuido, incluso para uso comercial. La licencia de Python es administrada por la Python Software Foundation.\n",
    "\n",
    "En julio de 2019, Python se encuentra como el tercer lenguaje en popularidad, según el [índice TIOBE](https://www.tiobe.com/tiobe-index//?6671423=1), sólo detrás de Java, C y superando a C++."
   ]
  },
  {
   "cell_type": "markdown",
   "metadata": {
    "slideshow": {
     "slide_type": "slide"
    }
   },
   "source": [
    "### Python 2 y Python 3\n",
    "\n",
    "Actualmente existen dos ramas principales de Python, la que corresponde a la versión 2.x y a la versión 3.x. Python 3.0 fue liberada en 2008, y la ultima versión de la Python 2, la 2.7, a mediados de 2010, y no va a tener más versiones después de esta.\n",
    "\n",
    "La rama 3.x está siendo desarrollada de forma activa, llevando ya más de 5 años de versiones estables, incluyendo la 3.3 en 2012, la 3.4 en 2014, la 3.5 en 2015 y la 3.6 en 2016.\n",
    "\n",
    "Por otro lado, Python 2.7 no tendrá soporte [más allá de 2020](https://pythonclock.org/), por lo que si estamos aprendiendo ahora Python, el lugar correcto para empezar es, sin duda alguna, la última versión de Python 3.\n"
   ]
  },
  {
   "cell_type": "markdown",
   "metadata": {
    "slideshow": {
     "slide_type": "slide"
    }
   },
   "source": [
    "### El intérprete\n",
    "\n",
    "Python tiene un intérprete interactivo o *REPL* (Read Evaluate Print Loop), que permite usar el lenguaje de forma interactiva. Para ejecutarlo, sólo tenemos que escribir `python` o `python3`(según como esté instalado) en una terminal.\n",
    "\n",
    "```\n",
    "$ python\n",
    "Python 3.7.1 (default, Nov  6 2018, 18:46:03)\n",
    "[Clang 10.0.0 (clang-1000.11.45.5)] on darwin\n",
    "Type \"help\", \"copyright\", \"credits\" or \"license\" for more information.\n",
    ">>>\n",
    "```"
   ]
  },
  {
   "cell_type": "markdown",
   "metadata": {
    "slideshow": {
     "slide_type": "slide"
    }
   },
   "source": [
    "Existen diferentes intérpretes de Python, escritos en otros lenguales, cada uno con sus características, algunos ejemplos son:\n",
    "\n",
    "- CPython, escito en C\n",
    "- IronPython, escrito en .NET\n",
    "- PyPy, escrito en Python\n",
    "- Jython, escrito en Java"
   ]
  },
  {
   "cell_type": "markdown",
   "metadata": {
    "slideshow": {
     "slide_type": "fragment"
    }
   },
   "source": [
    "Nosotros nos centraremos en **CPython**, el intérprete más usado."
   ]
  },
  {
   "cell_type": "markdown",
   "metadata": {
    "slideshow": {
     "slide_type": "slide"
    }
   },
   "source": [
    "### Ejecutar programas\n",
    "\n",
    "Los programas escritos en Python se suelen almacenar en ficheros de texto con extensión `.py`. Para ejecutar un programa de Python desde una terminal, por ejemplo uno llamado `hola.py` bastaría con usar el siguiente comando:\n",
    "\n",
    "```\n",
    "$ python3 hola.py\n",
    "```\n"
   ]
  },
  {
   "cell_type": "markdown",
   "metadata": {
    "slideshow": {
     "slide_type": "slide"
    }
   },
   "source": [
    "### El lenguaje\n",
    "\n",
    "- La frase que mejor define el lenguaje y que siempre hay que tener en cuenta es que **todo es un objeto en Python**.\n",
    "- Busca maximizar la legibilidad del código.\n",
    "- Las librerías estándar proporcionan mucha funcionalidad, se dice que es un lenguaje que **viene con las pilas incluidas**."
   ]
  },
  {
   "cell_type": "markdown",
   "metadata": {
    "slideshow": {
     "slide_type": "slide"
    }
   },
   "source": [
    "#### El Zen de Python\n",
    "\n",
    "Existen 19 principios básicos del diseño de Python, lo que llamamos el Zen de Python.\n"
   ]
  },
  {
   "cell_type": "code",
   "execution_count": 1,
   "metadata": {
    "slideshow": {
     "slide_type": "slide"
    }
   },
   "outputs": [
    {
     "name": "stdout",
     "output_type": "stream",
     "text": [
      "The Zen of Python, by Tim Peters\n",
      "\n",
      "Beautiful is better than ugly.\n",
      "Explicit is better than implicit.\n",
      "Simple is better than complex.\n",
      "Complex is better than complicated.\n",
      "Flat is better than nested.\n",
      "Sparse is better than dense.\n",
      "Readability counts.\n",
      "Special cases aren't special enough to break the rules.\n",
      "Although practicality beats purity.\n",
      "Errors should never pass silently.\n",
      "Unless explicitly silenced.\n",
      "In the face of ambiguity, refuse the temptation to guess.\n",
      "There should be one-- and preferably only one --obvious way to do it.\n",
      "Although that way may not be obvious at first unless you're Dutch.\n",
      "Now is better than never.\n",
      "Although never is often better than *right* now.\n",
      "If the implementation is hard to explain, it's a bad idea.\n",
      "If the implementation is easy to explain, it may be a good idea.\n",
      "Namespaces are one honking great idea -- let's do more of those!\n"
     ]
    }
   ],
   "source": [
    "import this"
   ]
  },
  {
   "cell_type": "markdown",
   "metadata": {
    "slideshow": {
     "slide_type": "slide"
    }
   },
   "source": [
    "- Hermoso es mejor que feo.\n",
    "- Explícito es mejor que implícito.\n",
    "- Simple es mejor que complejo.\n",
    "- Complejo es mejor que complicado.\n",
    "- Sencillo es mejor que anidado.\n",
    "- Escaso es mejor que denso.\n",
    "- La legibilidad cuenta.\n",
    "- Los casos especiales no son lo suficientemente especiales para romper las reglas.\n",
    "- Lo práctico le gana a la pureza.\n",
    "- Los errores no debe pasar en silencio.\n",
    "- A menos que sean silenciados."
   ]
  },
  {
   "cell_type": "markdown",
   "metadata": {
    "slideshow": {
     "slide_type": "slide"
    }
   },
   "source": [
    "- En cara a la ambigüedad, rechazar la tentación de adivinar.\n",
    "- Debe haber una - y preferiblemente sólo una - manera obvia de hacerlo.\n",
    "- Aunque esa manera puede no ser obvia en un primer momento a menos que seas holandés.\n",
    "- Ahora es mejor que nunca.\n",
    "- Aunque \"nunca\" es a menudo mejor que \"ahora mismo\".\n",
    "- Si la aplicación es difícil de explicar, es una mala idea.\n",
    "- Si la aplicación es fácil de explicar, puede ser una buena idea.\n",
    "- Los espacios de nombres son una gran idea ¡hay que hacer más de eso!\n"
   ]
  },
  {
   "cell_type": "markdown",
   "metadata": {
    "slideshow": {
     "slide_type": "slide"
    }
   },
   "source": [
    "#### ¡Hola mundo!"
   ]
  },
  {
   "cell_type": "code",
   "execution_count": 2,
   "metadata": {
    "slideshow": {
     "slide_type": "fragment"
    }
   },
   "outputs": [
    {
     "name": "stdout",
     "output_type": "stream",
     "text": [
      "¡Hola mundo!\n"
     ]
    }
   ],
   "source": [
    "print(\"¡Hola mundo!\")"
   ]
  },
  {
   "cell_type": "markdown",
   "metadata": {
    "slideshow": {
     "slide_type": "slide"
    }
   },
   "source": [
    "#### Comentarios\n",
    "\n",
    "En Python hay dos tipos de comentarios:\n",
    "\n",
    "- Los de una línea, que empiezan por `#`\n",
    "- Los multilíneas, o `docstrings` que estarán entre tres comillas, simples o dobles (`\"\"\"...\"\"\"`).\n",
    "\n",
    "```python\n",
    "# Esto es un comentario\n",
    "\n",
    "def func():\n",
    "    \"\"\"Esto es un docstring\"\"\"\n",
    "    pass\n",
    "```"
   ]
  },
  {
   "cell_type": "markdown",
   "metadata": {
    "slideshow": {
     "slide_type": "slide"
    }
   },
   "source": [
    "#### Valor nulo\n",
    "\n",
    "El valor nulo se representa mediante la palabra reservada `None`.\n"
   ]
  },
  {
   "cell_type": "markdown",
   "metadata": {
    "slideshow": {
     "slide_type": "slide"
    }
   },
   "source": [
    "#### Bloques\n",
    "\n",
    "Python define los bloques de código mediante la indentación. Todo aquello que tiene el mismo nivel de indentación pertenece al mismo bloque de código.\n",
    "\n",
    "```python\n",
    "if condition:\n",
    "    # Si la condición es cierta\n",
    "    call_to_some_complicated_stuff()\n",
    "\n",
    "# Fuera del condicional\n",
    "do_always_the_same_stuff()\n",
    "```\n"
   ]
  },
  {
   "cell_type": "markdown",
   "metadata": {
    "slideshow": {
     "slide_type": "slide"
    }
   },
   "source": [
    "#### Lectura de datos del usuario\n",
    "\n",
    "Se pueden pedir datos al usuario desde la terminal usando la instrucción `input`.\n",
    "\n",
    "```python\n",
    "answer = input(\"¿Cuál es la respuesta a la vida, el universo y todo lo demás?\")\n",
    "```\n"
   ]
  },
  {
   "cell_type": "markdown",
   "metadata": {
    "slideshow": {
     "slide_type": "slide"
    }
   },
   "source": [
    "#### Excepciones\n",
    "\n",
    "Los errores en Python se gestionan mediante el uso de excepciones. Hay diferentes tipos de excepciones por defecto, y se pueden crear otras personalizadas.\n",
    "\n",
    "Para capturar una excepción, se usa un bloque `try` / `except`.\n",
    "\n",
    "```python\n",
    "try:\n",
    "    function_raises_exception()\n",
    "except Exception:\n",
    "    handle_exception()\n",
    "```\n"
   ]
  },
  {
   "cell_type": "code",
   "execution_count": 3,
   "metadata": {
    "slideshow": {
     "slide_type": "slide"
    }
   },
   "outputs": [],
   "source": [
    "# Un easter egg\n",
    "import antigravity"
   ]
  }
 ],
 "metadata": {
  "celltoolbar": "Slideshow",
  "kernelspec": {
   "display_name": "Python 3",
   "language": "python",
   "name": "python3"
  },
  "language_info": {
   "codemirror_mode": {
    "name": "ipython",
    "version": 3
   },
   "file_extension": ".py",
   "mimetype": "text/x-python",
   "name": "python",
   "nbconvert_exporter": "python",
   "pygments_lexer": "ipython3",
   "version": "3.7.1"
  }
 },
 "nbformat": 4,
 "nbformat_minor": 2
}
